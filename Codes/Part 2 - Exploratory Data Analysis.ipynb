{
 "cells": [
  {
   "cell_type": "markdown",
   "id": "c6888930",
   "metadata": {},
   "source": [
    "# Project 1: Classification For German Bank Credit Risk\n",
    "\n",
    "### Part 2 - EDA/Preprocessing/Feature Engineering\n",
    "\n",
    "#### By: Amin\n",
    "For this notebook, I will be doing further in-depth EDA.  \n",
    "<hr>"
   ]
  },
  {
   "cell_type": "markdown",
   "id": "f3fab320",
   "metadata": {},
   "source": [
    "## 1. Import Libraries"
   ]
  },
  {
   "cell_type": "code",
   "execution_count": 1,
   "id": "7642e35f",
   "metadata": {},
   "outputs": [],
   "source": [
    "import numpy as np\n",
    "import pandas as pd\n",
    "import matplotlib.pyplot as plt\n",
    "import seaborn as sns\n",
    "\n",
    "import warnings\n",
    "warnings.filterwarnings('ignore')\n",
    "\n",
    "%matplotlib inline"
   ]
  },
  {
   "cell_type": "markdown",
   "id": "f818ccf9",
   "metadata": {},
   "source": [
    "## 2. Getting our Data"
   ]
  },
  {
   "cell_type": "code",
   "execution_count": 2,
   "id": "0c9823e2",
   "metadata": {},
   "outputs": [
    {
     "data": {
      "text/html": [
       "<div>\n",
       "<style scoped>\n",
       "    .dataframe tbody tr th:only-of-type {\n",
       "        vertical-align: middle;\n",
       "    }\n",
       "\n",
       "    .dataframe tbody tr th {\n",
       "        vertical-align: top;\n",
       "    }\n",
       "\n",
       "    .dataframe thead th {\n",
       "        text-align: right;\n",
       "    }\n",
       "</style>\n",
       "<table border=\"1\" class=\"dataframe\">\n",
       "  <thead>\n",
       "    <tr style=\"text-align: right;\">\n",
       "      <th></th>\n",
       "      <th>age</th>\n",
       "      <th>sex</th>\n",
       "      <th>job</th>\n",
       "      <th>housing</th>\n",
       "      <th>saving_accounts</th>\n",
       "      <th>checking_account</th>\n",
       "      <th>credit_amount</th>\n",
       "      <th>duration</th>\n",
       "      <th>purpose</th>\n",
       "      <th>risk</th>\n",
       "    </tr>\n",
       "  </thead>\n",
       "  <tbody>\n",
       "    <tr>\n",
       "      <th>0</th>\n",
       "      <td>67</td>\n",
       "      <td>male</td>\n",
       "      <td>2</td>\n",
       "      <td>own</td>\n",
       "      <td>little</td>\n",
       "      <td>little</td>\n",
       "      <td>1169</td>\n",
       "      <td>6</td>\n",
       "      <td>radio/TV</td>\n",
       "      <td>good</td>\n",
       "    </tr>\n",
       "    <tr>\n",
       "      <th>1</th>\n",
       "      <td>22</td>\n",
       "      <td>female</td>\n",
       "      <td>2</td>\n",
       "      <td>own</td>\n",
       "      <td>little</td>\n",
       "      <td>moderate</td>\n",
       "      <td>5951</td>\n",
       "      <td>48</td>\n",
       "      <td>radio/TV</td>\n",
       "      <td>bad</td>\n",
       "    </tr>\n",
       "    <tr>\n",
       "      <th>2</th>\n",
       "      <td>49</td>\n",
       "      <td>male</td>\n",
       "      <td>1</td>\n",
       "      <td>own</td>\n",
       "      <td>little</td>\n",
       "      <td>little</td>\n",
       "      <td>2096</td>\n",
       "      <td>12</td>\n",
       "      <td>education</td>\n",
       "      <td>good</td>\n",
       "    </tr>\n",
       "    <tr>\n",
       "      <th>3</th>\n",
       "      <td>45</td>\n",
       "      <td>male</td>\n",
       "      <td>2</td>\n",
       "      <td>free</td>\n",
       "      <td>little</td>\n",
       "      <td>little</td>\n",
       "      <td>7882</td>\n",
       "      <td>42</td>\n",
       "      <td>furniture/equipment</td>\n",
       "      <td>good</td>\n",
       "    </tr>\n",
       "    <tr>\n",
       "      <th>4</th>\n",
       "      <td>53</td>\n",
       "      <td>male</td>\n",
       "      <td>2</td>\n",
       "      <td>free</td>\n",
       "      <td>little</td>\n",
       "      <td>little</td>\n",
       "      <td>4870</td>\n",
       "      <td>24</td>\n",
       "      <td>car</td>\n",
       "      <td>bad</td>\n",
       "    </tr>\n",
       "  </tbody>\n",
       "</table>\n",
       "</div>"
      ],
      "text/plain": [
       "   age     sex  job housing saving_accounts checking_account  credit_amount  \\\n",
       "0   67    male    2     own          little           little           1169   \n",
       "1   22  female    2     own          little         moderate           5951   \n",
       "2   49    male    1     own          little           little           2096   \n",
       "3   45    male    2    free          little           little           7882   \n",
       "4   53    male    2    free          little           little           4870   \n",
       "\n",
       "   duration              purpose  risk  \n",
       "0         6             radio/TV  good  \n",
       "1        48             radio/TV   bad  \n",
       "2        12            education  good  \n",
       "3        42  furniture/equipment  good  \n",
       "4        24                  car   bad  "
      ]
     },
     "execution_count": 2,
     "metadata": {},
     "output_type": "execute_result"
    }
   ],
   "source": [
    "df = pd.read_csv('cleaned_data.csv')\n",
    "df.head()"
   ]
  },
  {
   "cell_type": "markdown",
   "id": "2aa6879e",
   "metadata": {},
   "source": [
    "## 3. EDA\n",
    "\n",
    "### 3.1 Sex"
   ]
  },
  {
   "cell_type": "code",
   "execution_count": 3,
   "id": "4d3c9950",
   "metadata": {},
   "outputs": [
    {
     "data": {
      "text/html": [
       "<div>\n",
       "<style scoped>\n",
       "    .dataframe tbody tr th:only-of-type {\n",
       "        vertical-align: middle;\n",
       "    }\n",
       "\n",
       "    .dataframe tbody tr th {\n",
       "        vertical-align: top;\n",
       "    }\n",
       "\n",
       "    .dataframe thead th {\n",
       "        text-align: right;\n",
       "    }\n",
       "</style>\n",
       "<table border=\"1\" class=\"dataframe\">\n",
       "  <thead>\n",
       "    <tr style=\"text-align: right;\">\n",
       "      <th>risk</th>\n",
       "      <th>bad</th>\n",
       "      <th>good</th>\n",
       "    </tr>\n",
       "    <tr>\n",
       "      <th>sex</th>\n",
       "      <th></th>\n",
       "      <th></th>\n",
       "    </tr>\n",
       "  </thead>\n",
       "  <tbody>\n",
       "    <tr>\n",
       "      <th>female</th>\n",
       "      <td>109</td>\n",
       "      <td>201</td>\n",
       "    </tr>\n",
       "    <tr>\n",
       "      <th>male</th>\n",
       "      <td>191</td>\n",
       "      <td>499</td>\n",
       "    </tr>\n",
       "  </tbody>\n",
       "</table>\n",
       "</div>"
      ],
      "text/plain": [
       "risk    bad  good\n",
       "sex              \n",
       "female  109   201\n",
       "male    191   499"
      ]
     },
     "execution_count": 3,
     "metadata": {},
     "output_type": "execute_result"
    }
   ],
   "source": [
    "df.groupby(['sex', 'risk']).size().unstack()"
   ]
  },
  {
   "cell_type": "code",
   "execution_count": 4,
   "id": "d4f7c6d9",
   "metadata": {},
   "outputs": [
    {
     "data": {
      "image/png": "[encoded data removed]",
      "text/plain": [
       "<Figure size 864x432 with 1 Axes>"
      ]
     },
     "metadata": {
      "needs_background": "light"
     },
     "output_type": "display_data"
    }
   ],
   "source": [
    "df.groupby(['sex', 'risk']).size().unstack().plot(kind='bar', figsize=(12, 6))\n",
    "plt.xticks(rotation=0, fontsize=13)\n",
    "plt.title('Risk by Gender', fontsize=15)\n",
    "plt.xlabel('Sex', fontsize=15)\n",
    "plt.show()"
   ]
  },
  {
   "cell_type": "markdown",
   "id": "e3ce3bf5",
   "metadata": {},
   "source": [
    "**Observations**:  \n",
    "\n",
    "- With respect to gender, and based on the 70:30 ratio of good risk to bad risk, males tend to be better risk as compared to females.  "
   ]
  },
  {
   "cell_type": "markdown",
   "id": "901aad05",
   "metadata": {},
   "source": [
    "### 3.2 Job Type"
   ]
  },
  {
   "cell_type": "code",
   "execution_count": 5,
   "id": "9aa3f489",
   "metadata": {},
   "outputs": [
    {
     "data": {
      "text/html": [
       "<div>\n",
       "<style scoped>\n",
       "    .dataframe tbody tr th:only-of-type {\n",
       "        vertical-align: middle;\n",
       "    }\n",
       "\n",
       "    .dataframe tbody tr th {\n",
       "        vertical-align: top;\n",
       "    }\n",
       "\n",
       "    .dataframe thead th {\n",
       "        text-align: right;\n",
       "    }\n",
       "</style>\n",
       "<table border=\"1\" class=\"dataframe\">\n",
       "  <thead>\n",
       "    <tr style=\"text-align: right;\">\n",
       "      <th>risk</th>\n",
       "      <th>bad</th>\n",
       "      <th>good</th>\n",
       "    </tr>\n",
       "    <tr>\n",
       "      <th>job</th>\n",
       "      <th></th>\n",
       "      <th></th>\n",
       "    </tr>\n",
       "  </thead>\n",
       "  <tbody>\n",
       "    <tr>\n",
       "      <th>0</th>\n",
       "      <td>7</td>\n",
       "      <td>15</td>\n",
       "    </tr>\n",
       "    <tr>\n",
       "      <th>1</th>\n",
       "      <td>56</td>\n",
       "      <td>144</td>\n",
       "    </tr>\n",
       "    <tr>\n",
       "      <th>2</th>\n",
       "      <td>186</td>\n",
       "      <td>444</td>\n",
       "    </tr>\n",
       "    <tr>\n",
       "      <th>3</th>\n",
       "      <td>51</td>\n",
       "      <td>97</td>\n",
       "    </tr>\n",
       "  </tbody>\n",
       "</table>\n",
       "</div>"
      ],
      "text/plain": [
       "risk  bad  good\n",
       "job            \n",
       "0       7    15\n",
       "1      56   144\n",
       "2     186   444\n",
       "3      51    97"
      ]
     },
     "execution_count": 5,
     "metadata": {},
     "output_type": "execute_result"
    }
   ],
   "source": [
    "df.groupby(['job', 'risk']).size().unstack()"
   ]
  },
  {
   "cell_type": "code",
   "execution_count": 6,
   "id": "b3848761",
   "metadata": {},
   "outputs": [
    {
     "data": {
      "image/png": "[encoded data removed]",
      "text/plain": [
       "<Figure size 864x432 with 1 Axes>"
      ]
     },
     "metadata": {
      "needs_background": "light"
     },
     "output_type": "display_data"
    }
   ],
   "source": [
    "df.groupby(['job', 'risk']).size().unstack().plot(kind='bar', figsize=(12, 6))\n",
    "plt.xticks([0,1,2,3], ['Unskilled & non-resident', 'Unskilled & resident', 'Skilled', 'Highly Skilled'])\n",
    "plt.xticks(rotation=0, fontsize=13)\n",
    "plt.title('Risk by Job Type', fontsize=15)\n",
    "plt.xlabel('Job Type', fontsize=15)\n",
    "plt.show()"
   ]
  },
  {
   "cell_type": "markdown",
   "id": "f6b6a779",
   "metadata": {},
   "source": [
    "**Observations**:  \n",
    "\n",
    "- With respect to job type, and based on the 70:30 ratio of good risk to bad risk, unskilled & non-resident, unskilled & resident, and skilled individuals tend to be better risk as compared to highly skilled ones.  "
   ]
  },
  {
   "cell_type": "markdown",
   "id": "011931f2",
   "metadata": {},
   "source": [
    "### 3.3 Housing Type"
   ]
  },
  {
   "cell_type": "code",
   "execution_count": 7,
   "id": "cf61a534",
   "metadata": {},
   "outputs": [
    {
     "data": {
      "text/html": [
       "<div>\n",
       "<style scoped>\n",
       "    .dataframe tbody tr th:only-of-type {\n",
       "        vertical-align: middle;\n",
       "    }\n",
       "\n",
       "    .dataframe tbody tr th {\n",
       "        vertical-align: top;\n",
       "    }\n",
       "\n",
       "    .dataframe thead th {\n",
       "        text-align: right;\n",
       "    }\n",
       "</style>\n",
       "<table border=\"1\" class=\"dataframe\">\n",
       "  <thead>\n",
       "    <tr style=\"text-align: right;\">\n",
       "      <th>risk</th>\n",
       "      <th>bad</th>\n",
       "      <th>good</th>\n",
       "    </tr>\n",
       "    <tr>\n",
       "      <th>housing</th>\n",
       "      <th></th>\n",
       "      <th></th>\n",
       "    </tr>\n",
       "  </thead>\n",
       "  <tbody>\n",
       "    <tr>\n",
       "      <th>free</th>\n",
       "      <td>44</td>\n",
       "      <td>64</td>\n",
       "    </tr>\n",
       "    <tr>\n",
       "      <th>own</th>\n",
       "      <td>186</td>\n",
       "      <td>527</td>\n",
       "    </tr>\n",
       "    <tr>\n",
       "      <th>rent</th>\n",
       "      <td>70</td>\n",
       "      <td>109</td>\n",
       "    </tr>\n",
       "  </tbody>\n",
       "</table>\n",
       "</div>"
      ],
      "text/plain": [
       "risk     bad  good\n",
       "housing           \n",
       "free      44    64\n",
       "own      186   527\n",
       "rent      70   109"
      ]
     },
     "execution_count": 7,
     "metadata": {},
     "output_type": "execute_result"
    }
   ],
   "source": [
    "df.groupby(['housing', 'risk']).size().unstack()"
   ]
  },
  {
   "cell_type": "code",
   "execution_count": 8,
   "id": "236afd19",
   "metadata": {},
   "outputs": [
    {
     "data": {
      "image/png": "[encoded data removed]",
      "text/plain": [
       "<Figure size 864x432 with 1 Axes>"
      ]
     },
     "metadata": {
      "needs_background": "light"
     },
     "output_type": "display_data"
    }
   ],
   "source": [
    "df.groupby(['housing', 'risk']).size().unstack().plot(kind='bar', figsize=(12, 6))\n",
    "plt.xticks(rotation=0, fontsize=13)\n",
    "plt.title('Risk by Housing', fontsize=15)\n",
    "plt.xlabel('Housing Type', fontsize=15)\n",
    "plt.show()"
   ]
  },
  {
   "cell_type": "markdown",
   "id": "f95558b5",
   "metadata": {},
   "source": [
    "**Observations**:  \n",
    "\n",
    "- With respect to housing type, and based on the 70:30 ratio of good risk to bad risk, individuals who owns their housing tends to be better risk than those whose housing is either free or rent.  "
   ]
  },
  {
   "cell_type": "markdown",
   "id": "31c1fe6f",
   "metadata": {},
   "source": [
    "### 3.4 Checking Account"
   ]
  },
  {
   "cell_type": "code",
   "execution_count": 9,
   "id": "8b5d7b85",
   "metadata": {},
   "outputs": [
    {
     "data": {
      "text/html": [
       "<div>\n",
       "<style scoped>\n",
       "    .dataframe tbody tr th:only-of-type {\n",
       "        vertical-align: middle;\n",
       "    }\n",
       "\n",
       "    .dataframe tbody tr th {\n",
       "        vertical-align: top;\n",
       "    }\n",
       "\n",
       "    .dataframe thead th {\n",
       "        text-align: right;\n",
       "    }\n",
       "</style>\n",
       "<table border=\"1\" class=\"dataframe\">\n",
       "  <thead>\n",
       "    <tr style=\"text-align: right;\">\n",
       "      <th>risk</th>\n",
       "      <th>bad</th>\n",
       "      <th>good</th>\n",
       "    </tr>\n",
       "    <tr>\n",
       "      <th>checking_account</th>\n",
       "      <th></th>\n",
       "      <th></th>\n",
       "    </tr>\n",
       "  </thead>\n",
       "  <tbody>\n",
       "    <tr>\n",
       "      <th>little</th>\n",
       "      <td>181</td>\n",
       "      <td>487</td>\n",
       "    </tr>\n",
       "    <tr>\n",
       "      <th>moderate</th>\n",
       "      <td>105</td>\n",
       "      <td>164</td>\n",
       "    </tr>\n",
       "    <tr>\n",
       "      <th>rich</th>\n",
       "      <td>14</td>\n",
       "      <td>49</td>\n",
       "    </tr>\n",
       "  </tbody>\n",
       "</table>\n",
       "</div>"
      ],
      "text/plain": [
       "risk              bad  good\n",
       "checking_account           \n",
       "little            181   487\n",
       "moderate          105   164\n",
       "rich               14    49"
      ]
     },
     "execution_count": 9,
     "metadata": {},
     "output_type": "execute_result"
    }
   ],
   "source": [
    "df.groupby(['checking_account', 'risk']).size().unstack()"
   ]
  },
  {
   "cell_type": "code",
   "execution_count": 10,
   "id": "bf8ac001",
   "metadata": {},
   "outputs": [
    {
     "data": {
      "image/png": "[encoded data removed]",
      "text/plain": [
       "<Figure size 864x432 with 1 Axes>"
      ]
     },
     "metadata": {
      "needs_background": "light"
     },
     "output_type": "display_data"
    }
   ],
   "source": [
    "df.groupby(['checking_account', 'risk']).size().unstack().plot(kind='bar', figsize=(12, 6))\n",
    "plt.xticks(rotation=0, fontsize=13)\n",
    "plt.title('Risk by Checking Account', fontsize=15)\n",
    "plt.xlabel('Checking Account', fontsize=15)\n",
    "plt.show()"
   ]
  },
  {
   "cell_type": "markdown",
   "id": "0865e713",
   "metadata": {},
   "source": [
    "**Observations**:  \n",
    "\n",
    "- With respect to checking account, and based on the 70:30 ratio of good risk to bad risk, those who are classified as little & rich checking account had better risk as compared to those with moderate.  "
   ]
  },
  {
   "cell_type": "markdown",
   "id": "d00cda90",
   "metadata": {},
   "source": [
    "### 3.5 Saving Account"
   ]
  },
  {
   "cell_type": "code",
   "execution_count": 11,
   "id": "51652568",
   "metadata": {},
   "outputs": [
    {
     "data": {
      "text/html": [
       "<div>\n",
       "<style scoped>\n",
       "    .dataframe tbody tr th:only-of-type {\n",
       "        vertical-align: middle;\n",
       "    }\n",
       "\n",
       "    .dataframe tbody tr th {\n",
       "        vertical-align: top;\n",
       "    }\n",
       "\n",
       "    .dataframe thead th {\n",
       "        text-align: right;\n",
       "    }\n",
       "</style>\n",
       "<table border=\"1\" class=\"dataframe\">\n",
       "  <thead>\n",
       "    <tr style=\"text-align: right;\">\n",
       "      <th>risk</th>\n",
       "      <th>bad</th>\n",
       "      <th>good</th>\n",
       "    </tr>\n",
       "    <tr>\n",
       "      <th>saving_accounts</th>\n",
       "      <th></th>\n",
       "      <th></th>\n",
       "    </tr>\n",
       "  </thead>\n",
       "  <tbody>\n",
       "    <tr>\n",
       "      <th>little</th>\n",
       "      <td>249</td>\n",
       "      <td>537</td>\n",
       "    </tr>\n",
       "    <tr>\n",
       "      <th>moderate</th>\n",
       "      <td>34</td>\n",
       "      <td>69</td>\n",
       "    </tr>\n",
       "    <tr>\n",
       "      <th>quite rich</th>\n",
       "      <td>11</td>\n",
       "      <td>52</td>\n",
       "    </tr>\n",
       "    <tr>\n",
       "      <th>rich</th>\n",
       "      <td>6</td>\n",
       "      <td>42</td>\n",
       "    </tr>\n",
       "  </tbody>\n",
       "</table>\n",
       "</div>"
      ],
      "text/plain": [
       "risk             bad  good\n",
       "saving_accounts           \n",
       "little           249   537\n",
       "moderate          34    69\n",
       "quite rich        11    52\n",
       "rich               6    42"
      ]
     },
     "execution_count": 11,
     "metadata": {},
     "output_type": "execute_result"
    }
   ],
   "source": [
    "df.groupby(['saving_accounts', 'risk']).size().unstack()"
   ]
  },
  {
   "cell_type": "code",
   "execution_count": 12,
   "id": "f28ed812",
   "metadata": {},
   "outputs": [
    {
     "data": {
      "image/png": "[encoded data removed]",
      "text/plain": [
       "<Figure size 864x432 with 1 Axes>"
      ]
     },
     "metadata": {
      "needs_background": "light"
     },
     "output_type": "display_data"
    }
   ],
   "source": [
    "df.groupby(['saving_accounts', 'risk']).size().unstack().plot(kind='bar', figsize=(12, 6))\n",
    "plt.xticks(rotation=0, fontsize=13)\n",
    "plt.title('Risk by Saving Account', fontsize=15)\n",
    "plt.xlabel('Saving Account', fontsize=15)\n",
    "plt.show()"
   ]
  },
  {
   "cell_type": "markdown",
   "id": "86630520",
   "metadata": {},
   "source": [
    "**Observations**:  \n",
    "\n",
    "- With respect to saving account, and based on the 70:30 ratio of good risk to bad risk, those who are classified as little, quite rich & rich saving account had better risk as compared to those with moderate.  "
   ]
  },
  {
   "cell_type": "markdown",
   "id": "b6c7d422",
   "metadata": {},
   "source": [
    "### 3.5 Purpose"
   ]
  },
  {
   "cell_type": "code",
   "execution_count": 13,
   "id": "0123b395",
   "metadata": {},
   "outputs": [
    {
     "data": {
      "text/html": [
       "<div>\n",
       "<style scoped>\n",
       "    .dataframe tbody tr th:only-of-type {\n",
       "        vertical-align: middle;\n",
       "    }\n",
       "\n",
       "    .dataframe tbody tr th {\n",
       "        vertical-align: top;\n",
       "    }\n",
       "\n",
       "    .dataframe thead th {\n",
       "        text-align: right;\n",
       "    }\n",
       "</style>\n",
       "<table border=\"1\" class=\"dataframe\">\n",
       "  <thead>\n",
       "    <tr style=\"text-align: right;\">\n",
       "      <th>risk</th>\n",
       "      <th>bad</th>\n",
       "      <th>good</th>\n",
       "    </tr>\n",
       "    <tr>\n",
       "      <th>purpose</th>\n",
       "      <th></th>\n",
       "      <th></th>\n",
       "    </tr>\n",
       "  </thead>\n",
       "  <tbody>\n",
       "    <tr>\n",
       "      <th>business</th>\n",
       "      <td>34</td>\n",
       "      <td>63</td>\n",
       "    </tr>\n",
       "    <tr>\n",
       "      <th>car</th>\n",
       "      <td>106</td>\n",
       "      <td>231</td>\n",
       "    </tr>\n",
       "    <tr>\n",
       "      <th>domestic appliances</th>\n",
       "      <td>4</td>\n",
       "      <td>8</td>\n",
       "    </tr>\n",
       "    <tr>\n",
       "      <th>education</th>\n",
       "      <td>23</td>\n",
       "      <td>36</td>\n",
       "    </tr>\n",
       "    <tr>\n",
       "      <th>furniture/equipment</th>\n",
       "      <td>58</td>\n",
       "      <td>123</td>\n",
       "    </tr>\n",
       "    <tr>\n",
       "      <th>radio/TV</th>\n",
       "      <td>62</td>\n",
       "      <td>218</td>\n",
       "    </tr>\n",
       "    <tr>\n",
       "      <th>repairs</th>\n",
       "      <td>8</td>\n",
       "      <td>14</td>\n",
       "    </tr>\n",
       "    <tr>\n",
       "      <th>vacation/others</th>\n",
       "      <td>5</td>\n",
       "      <td>7</td>\n",
       "    </tr>\n",
       "  </tbody>\n",
       "</table>\n",
       "</div>"
      ],
      "text/plain": [
       "risk                 bad  good\n",
       "purpose                       \n",
       "business              34    63\n",
       "car                  106   231\n",
       "domestic appliances    4     8\n",
       "education             23    36\n",
       "furniture/equipment   58   123\n",
       "radio/TV              62   218\n",
       "repairs                8    14\n",
       "vacation/others        5     7"
      ]
     },
     "execution_count": 13,
     "metadata": {},
     "output_type": "execute_result"
    }
   ],
   "source": [
    "df.groupby(['purpose', 'risk']).size().unstack()"
   ]
  },
  {
   "cell_type": "code",
   "execution_count": 14,
   "id": "ac96018c",
   "metadata": {},
   "outputs": [
    {
     "data": {
      "image/png": "[encoded data removed]",
      "text/plain": [
       "<Figure size 1152x432 with 1 Axes>"
      ]
     },
     "metadata": {
      "needs_background": "light"
     },
     "output_type": "display_data"
    }
   ],
   "source": [
    "df.groupby(['purpose', 'risk']).size().unstack().plot(kind='bar', figsize=(16, 6))\n",
    "plt.xticks(rotation=0, fontsize=13)\n",
    "plt.title('Risk by Purpose', fontsize=15)\n",
    "plt.xlabel('Purpose', fontsize=15)\n",
    "plt.show()"
   ]
  },
  {
   "cell_type": "markdown",
   "id": "d4448e3e",
   "metadata": {},
   "source": [
    "**Observations**:  \n",
    "\n",
    "- With respect to purpose, and based on the 70:30 ratio of good risk to bad risk, those for the purpose of cars, furniture/equipment & radio are better risk than those of business, domestic appliances, repairs, education & vacation/others.  "
   ]
  },
  {
   "cell_type": "markdown",
   "id": "94e7d4e1",
   "metadata": {},
   "source": [
    "### 3.7 Exploring Credit Amount"
   ]
  },
  {
   "cell_type": "code",
   "execution_count": 15,
   "id": "4327d2d1",
   "metadata": {},
   "outputs": [
    {
     "data": {
      "text/html": [
       "<div>\n",
       "<style scoped>\n",
       "    .dataframe tbody tr th:only-of-type {\n",
       "        vertical-align: middle;\n",
       "    }\n",
       "\n",
       "    .dataframe tbody tr th {\n",
       "        vertical-align: top;\n",
       "    }\n",
       "\n",
       "    .dataframe thead th {\n",
       "        text-align: right;\n",
       "    }\n",
       "</style>\n",
       "<table border=\"1\" class=\"dataframe\">\n",
       "  <thead>\n",
       "    <tr style=\"text-align: right;\">\n",
       "      <th>sex</th>\n",
       "      <th>female</th>\n",
       "      <th>male</th>\n",
       "    </tr>\n",
       "    <tr>\n",
       "      <th>risk</th>\n",
       "      <th></th>\n",
       "      <th></th>\n",
       "    </tr>\n",
       "  </thead>\n",
       "  <tbody>\n",
       "    <tr>\n",
       "      <th>bad</th>\n",
       "      <td>3471.183486</td>\n",
       "      <td>4204.602094</td>\n",
       "    </tr>\n",
       "    <tr>\n",
       "      <th>good</th>\n",
       "      <td>2555.975124</td>\n",
       "      <td>3158.454910</td>\n",
       "    </tr>\n",
       "  </tbody>\n",
       "</table>\n",
       "</div>"
      ],
      "text/plain": [
       "sex        female         male\n",
       "risk                          \n",
       "bad   3471.183486  4204.602094\n",
       "good  2555.975124  3158.454910"
      ]
     },
     "execution_count": 15,
     "metadata": {},
     "output_type": "execute_result"
    }
   ],
   "source": [
    "pivot1 = df.pivot_table(index = 'risk', columns = 'sex', values = 'credit_amount')\n",
    "pivot1"
   ]
  },
  {
   "cell_type": "code",
   "execution_count": 16,
   "id": "37eef4fa",
   "metadata": {},
   "outputs": [
    {
     "data": {
      "image/png": "[encoded data removed]",
      "text/plain": [
       "<Figure size 1008x432 with 1 Axes>"
      ]
     },
     "metadata": {
      "needs_background": "light"
     },
     "output_type": "display_data"
    }
   ],
   "source": [
    "pivot1.plot(kind='bar', figsize=(14,6))\n",
    "plt.xticks(rotation=0, fontsize=13)\n",
    "plt.title('Credit Amount Risk Based on Sex', fontsize=15)\n",
    "plt.xlabel('Risk', fontsize=15)\n",
    "plt.ylabel('Credit Amount', fontsize=15)\n",
    "plt.show()"
   ]
  },
  {
   "cell_type": "code",
   "execution_count": 17,
   "id": "e3179c21",
   "metadata": {},
   "outputs": [
    {
     "data": {
      "text/html": [
       "<div>\n",
       "<style scoped>\n",
       "    .dataframe tbody tr th:only-of-type {\n",
       "        vertical-align: middle;\n",
       "    }\n",
       "\n",
       "    .dataframe tbody tr th {\n",
       "        vertical-align: top;\n",
       "    }\n",
       "\n",
       "    .dataframe thead th {\n",
       "        text-align: right;\n",
       "    }\n",
       "</style>\n",
       "<table border=\"1\" class=\"dataframe\">\n",
       "  <thead>\n",
       "    <tr style=\"text-align: right;\">\n",
       "      <th>job</th>\n",
       "      <th>0</th>\n",
       "      <th>1</th>\n",
       "      <th>2</th>\n",
       "      <th>3</th>\n",
       "    </tr>\n",
       "    <tr>\n",
       "      <th>risk</th>\n",
       "      <th></th>\n",
       "      <th></th>\n",
       "      <th></th>\n",
       "      <th></th>\n",
       "    </tr>\n",
       "  </thead>\n",
       "  <tbody>\n",
       "    <tr>\n",
       "      <th>bad</th>\n",
       "      <td>3221.142857</td>\n",
       "      <td>2387.553571</td>\n",
       "      <td>3642.650538</td>\n",
       "      <td>6816.745098</td>\n",
       "    </tr>\n",
       "    <tr>\n",
       "      <th>good</th>\n",
       "      <td>2523.000000</td>\n",
       "      <td>2347.229167</td>\n",
       "      <td>2831.475225</td>\n",
       "      <td>4709.268041</td>\n",
       "    </tr>\n",
       "  </tbody>\n",
       "</table>\n",
       "</div>"
      ],
      "text/plain": [
       "job             0            1            2            3\n",
       "risk                                                    \n",
       "bad   3221.142857  2387.553571  3642.650538  6816.745098\n",
       "good  2523.000000  2347.229167  2831.475225  4709.268041"
      ]
     },
     "execution_count": 17,
     "metadata": {},
     "output_type": "execute_result"
    }
   ],
   "source": [
    "pivot2 = df.pivot_table(index = 'risk', columns = 'job', values = 'credit_amount')\n",
    "pivot2"
   ]
  },
  {
   "cell_type": "code",
   "execution_count": 18,
   "id": "d8170725",
   "metadata": {},
   "outputs": [
    {
     "data": {
      "image/png": "[encoded data removed]",
      "text/plain": [
       "<Figure size 1008x432 with 1 Axes>"
      ]
     },
     "metadata": {
      "needs_background": "light"
     },
     "output_type": "display_data"
    }
   ],
   "source": [
    "pivot2.plot(kind='bar', figsize=(14,6))\n",
    "plt.xticks(rotation=0, fontsize=13)\n",
    "plt.title('Credit Amount Risk Based on Job Type', fontsize=15)\n",
    "plt.xlabel('Risk', fontsize=15)\n",
    "plt.ylabel('Credit Amount', fontsize=15)\n",
    "plt.show()"
   ]
  },
  {
   "cell_type": "code",
   "execution_count": 19,
   "id": "781af762",
   "metadata": {},
   "outputs": [
    {
     "data": {
      "text/html": [
       "<div>\n",
       "<style scoped>\n",
       "    .dataframe tbody tr th:only-of-type {\n",
       "        vertical-align: middle;\n",
       "    }\n",
       "\n",
       "    .dataframe tbody tr th {\n",
       "        vertical-align: top;\n",
       "    }\n",
       "\n",
       "    .dataframe thead th {\n",
       "        text-align: right;\n",
       "    }\n",
       "</style>\n",
       "<table border=\"1\" class=\"dataframe\">\n",
       "  <thead>\n",
       "    <tr style=\"text-align: right;\">\n",
       "      <th>saving_accounts</th>\n",
       "      <th>little</th>\n",
       "      <th>moderate</th>\n",
       "      <th>quite rich</th>\n",
       "      <th>rich</th>\n",
       "    </tr>\n",
       "    <tr>\n",
       "      <th>risk</th>\n",
       "      <th></th>\n",
       "      <th></th>\n",
       "      <th></th>\n",
       "      <th></th>\n",
       "    </tr>\n",
       "  </thead>\n",
       "  <tbody>\n",
       "    <tr>\n",
       "      <th>bad</th>\n",
       "      <td>3981.654618</td>\n",
       "      <td>4006.970588</td>\n",
       "      <td>3052.818182</td>\n",
       "      <td>3364.666667</td>\n",
       "    </tr>\n",
       "    <tr>\n",
       "      <th>good</th>\n",
       "      <td>3064.625698</td>\n",
       "      <td>3077.086957</td>\n",
       "      <td>2470.423077</td>\n",
       "      <td>2460.357143</td>\n",
       "    </tr>\n",
       "  </tbody>\n",
       "</table>\n",
       "</div>"
      ],
      "text/plain": [
       "saving_accounts       little     moderate   quite rich         rich\n",
       "risk                                                               \n",
       "bad              3981.654618  4006.970588  3052.818182  3364.666667\n",
       "good             3064.625698  3077.086957  2470.423077  2460.357143"
      ]
     },
     "execution_count": 19,
     "metadata": {},
     "output_type": "execute_result"
    }
   ],
   "source": [
    "pivot3 = df.pivot_table(index = 'risk', columns = 'saving_accounts', values = 'credit_amount')\n",
    "pivot3"
   ]
  },
  {
   "cell_type": "code",
   "execution_count": 20,
   "id": "d68289da",
   "metadata": {},
   "outputs": [
    {
     "data": {
      "image/png": "[encoded data removed]",
      "text/plain": [
       "<Figure size 1008x432 with 1 Axes>"
      ]
     },
     "metadata": {
      "needs_background": "light"
     },
     "output_type": "display_data"
    }
   ],
   "source": [
    "pivot3.plot(kind='bar', figsize=(14,6))\n",
    "plt.xticks(rotation=0, fontsize=13)\n",
    "plt.title('Credit Amount Risk Based on Savings Account', fontsize=15)\n",
    "plt.xlabel('Risk', fontsize=15)\n",
    "plt.ylabel('Credit Amount', fontsize=15)\n",
    "plt.show()"
   ]
  },
  {
   "cell_type": "code",
   "execution_count": 21,
   "id": "4d720ac9",
   "metadata": {},
   "outputs": [
    {
     "data": {
      "text/html": [
       "<div>\n",
       "<style scoped>\n",
       "    .dataframe tbody tr th:only-of-type {\n",
       "        vertical-align: middle;\n",
       "    }\n",
       "\n",
       "    .dataframe tbody tr th {\n",
       "        vertical-align: top;\n",
       "    }\n",
       "\n",
       "    .dataframe thead th {\n",
       "        text-align: right;\n",
       "    }\n",
       "</style>\n",
       "<table border=\"1\" class=\"dataframe\">\n",
       "  <thead>\n",
       "    <tr style=\"text-align: right;\">\n",
       "      <th>checking_account</th>\n",
       "      <th>little</th>\n",
       "      <th>moderate</th>\n",
       "      <th>rich</th>\n",
       "    </tr>\n",
       "    <tr>\n",
       "      <th>risk</th>\n",
       "      <th></th>\n",
       "      <th></th>\n",
       "      <th></th>\n",
       "    </tr>\n",
       "  </thead>\n",
       "  <tbody>\n",
       "    <tr>\n",
       "      <th>bad</th>\n",
       "      <td>3635.519337</td>\n",
       "      <td>4754.752381</td>\n",
       "      <td>1725.714286</td>\n",
       "    </tr>\n",
       "    <tr>\n",
       "      <th>good</th>\n",
       "      <td>2970.067762</td>\n",
       "      <td>3233.932927</td>\n",
       "      <td>2306.775510</td>\n",
       "    </tr>\n",
       "  </tbody>\n",
       "</table>\n",
       "</div>"
      ],
      "text/plain": [
       "checking_account       little     moderate         rich\n",
       "risk                                                   \n",
       "bad               3635.519337  4754.752381  1725.714286\n",
       "good              2970.067762  3233.932927  2306.775510"
      ]
     },
     "execution_count": 21,
     "metadata": {},
     "output_type": "execute_result"
    }
   ],
   "source": [
    "pivot4 = df.pivot_table(index = 'risk', columns = 'checking_account', values = 'credit_amount')\n",
    "pivot4"
   ]
  },
  {
   "cell_type": "code",
   "execution_count": 22,
   "id": "f6127cca",
   "metadata": {},
   "outputs": [
    {
     "data": {
      "image/png": "[encoded data removed]",
      "text/plain": [
       "<Figure size 1008x432 with 1 Axes>"
      ]
     },
     "metadata": {
      "needs_background": "light"
     },
     "output_type": "display_data"
    }
   ],
   "source": [
    "pivot4.plot(kind='bar', figsize=(14,6))\n",
    "plt.xticks(rotation=0, fontsize=13)\n",
    "plt.title('Credit Amount Risk Based on Checking Account', fontsize=15)\n",
    "plt.xlabel('Risk', fontsize=15)\n",
    "plt.ylabel('Credit Amount', fontsize=15)\n",
    "plt.show()"
   ]
  },
  {
   "cell_type": "code",
   "execution_count": 23,
   "id": "2fbbad24",
   "metadata": {},
   "outputs": [
    {
     "data": {
      "text/html": [
       "<div>\n",
       "<style scoped>\n",
       "    .dataframe tbody tr th:only-of-type {\n",
       "        vertical-align: middle;\n",
       "    }\n",
       "\n",
       "    .dataframe tbody tr th {\n",
       "        vertical-align: top;\n",
       "    }\n",
       "\n",
       "    .dataframe thead th {\n",
       "        text-align: right;\n",
       "    }\n",
       "</style>\n",
       "<table border=\"1\" class=\"dataframe\">\n",
       "  <thead>\n",
       "    <tr style=\"text-align: right;\">\n",
       "      <th>housing</th>\n",
       "      <th>free</th>\n",
       "      <th>own</th>\n",
       "      <th>rent</th>\n",
       "    </tr>\n",
       "    <tr>\n",
       "      <th>risk</th>\n",
       "      <th></th>\n",
       "      <th></th>\n",
       "      <th></th>\n",
       "    </tr>\n",
       "  </thead>\n",
       "  <tbody>\n",
       "    <tr>\n",
       "      <th>bad</th>\n",
       "      <td>5536.454545</td>\n",
       "      <td>3693.801075</td>\n",
       "      <td>3582.671429</td>\n",
       "    </tr>\n",
       "    <tr>\n",
       "      <th>good</th>\n",
       "      <td>4472.921875</td>\n",
       "      <td>2837.576850</td>\n",
       "      <td>2827.064220</td>\n",
       "    </tr>\n",
       "  </tbody>\n",
       "</table>\n",
       "</div>"
      ],
      "text/plain": [
       "housing         free          own         rent\n",
       "risk                                          \n",
       "bad      5536.454545  3693.801075  3582.671429\n",
       "good     4472.921875  2837.576850  2827.064220"
      ]
     },
     "execution_count": 23,
     "metadata": {},
     "output_type": "execute_result"
    }
   ],
   "source": [
    "pivot5 = df.pivot_table(index = 'risk', columns = 'housing', values = 'credit_amount')\n",
    "pivot5"
   ]
  },
  {
   "cell_type": "code",
   "execution_count": 24,
   "id": "eb7174ac",
   "metadata": {},
   "outputs": [
    {
     "data": {
      "image/png": "[encoded data removed]",
      "text/plain": [
       "<Figure size 1008x432 with 1 Axes>"
      ]
     },
     "metadata": {
      "needs_background": "light"
     },
     "output_type": "display_data"
    }
   ],
   "source": [
    "pivot5.plot(kind='bar', figsize=(14,6))\n",
    "plt.xticks(rotation=0, fontsize=13)\n",
    "plt.title('Credit Amount Risk Based on Housing Type', fontsize=15)\n",
    "plt.xlabel('Risk', fontsize=15)\n",
    "plt.ylabel('Credit Amount', fontsize=15)\n",
    "plt.show()"
   ]
  },
  {
   "cell_type": "markdown",
   "id": "97ffe61b",
   "metadata": {},
   "source": [
    "### Observations for Credit Amount:  \n",
    "\n",
    "- One of our objectives was to determine the customer profile for both good and bad risk type. Using credit amount for analysis, we gained some insights into this.  \n",
    "- The common theme among the variables observed and compared with respect to credit amount was that, beyond a certain amount of credit, the individual starts to become a bad risk.  "
   ]
  },
  {
   "cell_type": "markdown",
   "id": "d30682f9",
   "metadata": {},
   "source": [
    "### 3.8 Exploring Age"
   ]
  },
  {
   "cell_type": "code",
   "execution_count": 25,
   "id": "f1562435",
   "metadata": {},
   "outputs": [
    {
     "data": {
      "text/html": [
       "<div>\n",
       "<style scoped>\n",
       "    .dataframe tbody tr th:only-of-type {\n",
       "        vertical-align: middle;\n",
       "    }\n",
       "\n",
       "    .dataframe tbody tr th {\n",
       "        vertical-align: top;\n",
       "    }\n",
       "\n",
       "    .dataframe thead th {\n",
       "        text-align: right;\n",
       "    }\n",
       "</style>\n",
       "<table border=\"1\" class=\"dataframe\">\n",
       "  <thead>\n",
       "    <tr style=\"text-align: right;\">\n",
       "      <th>sex</th>\n",
       "      <th>female</th>\n",
       "      <th>male</th>\n",
       "    </tr>\n",
       "    <tr>\n",
       "      <th>risk</th>\n",
       "      <th></th>\n",
       "      <th></th>\n",
       "    </tr>\n",
       "  </thead>\n",
       "  <tbody>\n",
       "    <tr>\n",
       "      <th>bad</th>\n",
       "      <td>30.009174</td>\n",
       "      <td>36.219895</td>\n",
       "    </tr>\n",
       "    <tr>\n",
       "      <th>good</th>\n",
       "      <td>34.318408</td>\n",
       "      <td>36.991984</td>\n",
       "    </tr>\n",
       "  </tbody>\n",
       "</table>\n",
       "</div>"
      ],
      "text/plain": [
       "sex      female       male\n",
       "risk                      \n",
       "bad   30.009174  36.219895\n",
       "good  34.318408  36.991984"
      ]
     },
     "execution_count": 25,
     "metadata": {},
     "output_type": "execute_result"
    }
   ],
   "source": [
    "pivot6 = df.pivot_table(index = 'risk', columns = 'sex', values = 'age')\n",
    "pivot6"
   ]
  },
  {
   "cell_type": "code",
   "execution_count": 26,
   "id": "8cd859cc",
   "metadata": {},
   "outputs": [
    {
     "data": {
      "image/png": "[encoded data removed]",
      "text/plain": [
       "<Figure size 1008x432 with 1 Axes>"
      ]
     },
     "metadata": {
      "needs_background": "light"
     },
     "output_type": "display_data"
    }
   ],
   "source": [
    "pivot6.plot(kind='bar', figsize=(14,6))\n",
    "plt.xticks(rotation=0, fontsize=13)\n",
    "plt.title('Age Risk Based on Gender', fontsize=15)\n",
    "plt.xlabel('Risk', fontsize=15)\n",
    "plt.ylabel('Age', fontsize=15)\n",
    "plt.show()"
   ]
  },
  {
   "cell_type": "code",
   "execution_count": 27,
   "id": "6a8207fa",
   "metadata": {},
   "outputs": [
    {
     "data": {
      "text/html": [
       "<div>\n",
       "<style scoped>\n",
       "    .dataframe tbody tr th:only-of-type {\n",
       "        vertical-align: middle;\n",
       "    }\n",
       "\n",
       "    .dataframe tbody tr th {\n",
       "        vertical-align: top;\n",
       "    }\n",
       "\n",
       "    .dataframe thead th {\n",
       "        text-align: right;\n",
       "    }\n",
       "</style>\n",
       "<table border=\"1\" class=\"dataframe\">\n",
       "  <thead>\n",
       "    <tr style=\"text-align: right;\">\n",
       "      <th>job</th>\n",
       "      <th>0</th>\n",
       "      <th>1</th>\n",
       "      <th>2</th>\n",
       "      <th>3</th>\n",
       "    </tr>\n",
       "    <tr>\n",
       "      <th>risk</th>\n",
       "      <th></th>\n",
       "      <th></th>\n",
       "      <th></th>\n",
       "      <th></th>\n",
       "    </tr>\n",
       "  </thead>\n",
       "  <tbody>\n",
       "    <tr>\n",
       "      <th>bad</th>\n",
       "      <td>30.142857</td>\n",
       "      <td>33.928571</td>\n",
       "      <td>32.731183</td>\n",
       "      <td>39.019608</td>\n",
       "    </tr>\n",
       "    <tr>\n",
       "      <th>good</th>\n",
       "      <td>44.733333</td>\n",
       "      <td>37.555556</td>\n",
       "      <td>34.891892</td>\n",
       "      <td>39.030928</td>\n",
       "    </tr>\n",
       "  </tbody>\n",
       "</table>\n",
       "</div>"
      ],
      "text/plain": [
       "job           0          1          2          3\n",
       "risk                                            \n",
       "bad   30.142857  33.928571  32.731183  39.019608\n",
       "good  44.733333  37.555556  34.891892  39.030928"
      ]
     },
     "execution_count": 27,
     "metadata": {},
     "output_type": "execute_result"
    }
   ],
   "source": [
    "pivot7 = df.pivot_table(index = 'risk', columns = 'job', values = 'age')\n",
    "pivot7"
   ]
  },
  {
   "cell_type": "code",
   "execution_count": 28,
   "id": "7863cf06",
   "metadata": {},
   "outputs": [
    {
     "data": {
      "image/png": "[encoded data removed]",
      "text/plain": [
       "<Figure size 1008x432 with 1 Axes>"
      ]
     },
     "metadata": {
      "needs_background": "light"
     },
     "output_type": "display_data"
    }
   ],
   "source": [
    "pivot7.plot(kind='bar', figsize=(14,6))\n",
    "plt.xticks(rotation=0, fontsize=13)\n",
    "plt.title('Age Risk Based on Job Type', fontsize=15)\n",
    "plt.xlabel('Risk', fontsize=15)\n",
    "plt.ylabel('Age', fontsize=15)\n",
    "plt.show()"
   ]
  },
  {
   "cell_type": "code",
   "execution_count": 29,
   "id": "76986516",
   "metadata": {},
   "outputs": [
    {
     "data": {
      "text/html": [
       "<div>\n",
       "<style scoped>\n",
       "    .dataframe tbody tr th:only-of-type {\n",
       "        vertical-align: middle;\n",
       "    }\n",
       "\n",
       "    .dataframe tbody tr th {\n",
       "        vertical-align: top;\n",
       "    }\n",
       "\n",
       "    .dataframe thead th {\n",
       "        text-align: right;\n",
       "    }\n",
       "</style>\n",
       "<table border=\"1\" class=\"dataframe\">\n",
       "  <thead>\n",
       "    <tr style=\"text-align: right;\">\n",
       "      <th>saving_accounts</th>\n",
       "      <th>little</th>\n",
       "      <th>moderate</th>\n",
       "      <th>quite rich</th>\n",
       "      <th>rich</th>\n",
       "    </tr>\n",
       "    <tr>\n",
       "      <th>risk</th>\n",
       "      <th></th>\n",
       "      <th></th>\n",
       "      <th></th>\n",
       "      <th></th>\n",
       "    </tr>\n",
       "  </thead>\n",
       "  <tbody>\n",
       "    <tr>\n",
       "      <th>bad</th>\n",
       "      <td>34.020080</td>\n",
       "      <td>32.117647</td>\n",
       "      <td>33.909091</td>\n",
       "      <td>42.166667</td>\n",
       "    </tr>\n",
       "    <tr>\n",
       "      <th>good</th>\n",
       "      <td>36.433892</td>\n",
       "      <td>33.463768</td>\n",
       "      <td>37.538462</td>\n",
       "      <td>36.452381</td>\n",
       "    </tr>\n",
       "  </tbody>\n",
       "</table>\n",
       "</div>"
      ],
      "text/plain": [
       "saving_accounts     little   moderate  quite rich       rich\n",
       "risk                                                        \n",
       "bad              34.020080  32.117647   33.909091  42.166667\n",
       "good             36.433892  33.463768   37.538462  36.452381"
      ]
     },
     "execution_count": 29,
     "metadata": {},
     "output_type": "execute_result"
    }
   ],
   "source": [
    "pivot8 = df.pivot_table(index = 'risk', columns = 'saving_accounts', values = 'age')\n",
    "pivot8"
   ]
  },
  {
   "cell_type": "code",
   "execution_count": 30,
   "id": "b03b674a",
   "metadata": {},
   "outputs": [
    {
     "data": {
      "image/png": "[encoded data removed]",
      "text/plain": [
       "<Figure size 1152x432 with 1 Axes>"
      ]
     },
     "metadata": {
      "needs_background": "light"
     },
     "output_type": "display_data"
    }
   ],
   "source": [
    "pivot8.plot(kind='bar', figsize=(16,6))\n",
    "plt.xticks(rotation=0, fontsize=13)\n",
    "plt.title('Age Risk Based on Savings Account', fontsize=15)\n",
    "plt.xlabel('Risk', fontsize=15)\n",
    "plt.ylabel('Age', fontsize=15)\n",
    "plt.show()"
   ]
  },
  {
   "cell_type": "code",
   "execution_count": 31,
   "id": "ccbd5d96",
   "metadata": {},
   "outputs": [
    {
     "data": {
      "text/html": [
       "<div>\n",
       "<style scoped>\n",
       "    .dataframe tbody tr th:only-of-type {\n",
       "        vertical-align: middle;\n",
       "    }\n",
       "\n",
       "    .dataframe tbody tr th {\n",
       "        vertical-align: top;\n",
       "    }\n",
       "\n",
       "    .dataframe thead th {\n",
       "        text-align: right;\n",
       "    }\n",
       "</style>\n",
       "<table border=\"1\" class=\"dataframe\">\n",
       "  <thead>\n",
       "    <tr style=\"text-align: right;\">\n",
       "      <th>checking_account</th>\n",
       "      <th>little</th>\n",
       "      <th>moderate</th>\n",
       "      <th>rich</th>\n",
       "    </tr>\n",
       "    <tr>\n",
       "      <th>risk</th>\n",
       "      <th></th>\n",
       "      <th></th>\n",
       "      <th></th>\n",
       "    </tr>\n",
       "  </thead>\n",
       "  <tbody>\n",
       "    <tr>\n",
       "      <th>bad</th>\n",
       "      <td>33.933702</td>\n",
       "      <td>33.790476</td>\n",
       "      <td>35.642857</td>\n",
       "    </tr>\n",
       "    <tr>\n",
       "      <th>good</th>\n",
       "      <td>36.741273</td>\n",
       "      <td>34.268293</td>\n",
       "      <td>37.632653</td>\n",
       "    </tr>\n",
       "  </tbody>\n",
       "</table>\n",
       "</div>"
      ],
      "text/plain": [
       "checking_account     little   moderate       rich\n",
       "risk                                             \n",
       "bad               33.933702  33.790476  35.642857\n",
       "good              36.741273  34.268293  37.632653"
      ]
     },
     "execution_count": 31,
     "metadata": {},
     "output_type": "execute_result"
    }
   ],
   "source": [
    "pivot9 = df.pivot_table(index = 'risk', columns = 'checking_account', values = 'age')\n",
    "pivot9"
   ]
  },
  {
   "cell_type": "code",
   "execution_count": 32,
   "id": "541b2263",
   "metadata": {},
   "outputs": [
    {
     "data": {
      "image/png": "[encoded data removed]",
      "text/plain": [
       "<Figure size 1152x432 with 1 Axes>"
      ]
     },
     "metadata": {
      "needs_background": "light"
     },
     "output_type": "display_data"
    }
   ],
   "source": [
    "pivot9.plot(kind='bar', figsize=(16,6))\n",
    "plt.xticks(rotation=0, fontsize=13)\n",
    "plt.title('Age Risk Based on Checking Account', fontsize=15)\n",
    "plt.xlabel('Risk', fontsize=15)\n",
    "plt.ylabel('Age', fontsize=15)\n",
    "plt.show()"
   ]
  },
  {
   "cell_type": "code",
   "execution_count": 33,
   "id": "d3d9f036",
   "metadata": {},
   "outputs": [
    {
     "data": {
      "text/html": [
       "<div>\n",
       "<style scoped>\n",
       "    .dataframe tbody tr th:only-of-type {\n",
       "        vertical-align: middle;\n",
       "    }\n",
       "\n",
       "    .dataframe tbody tr th {\n",
       "        vertical-align: top;\n",
       "    }\n",
       "\n",
       "    .dataframe thead th {\n",
       "        text-align: right;\n",
       "    }\n",
       "</style>\n",
       "<table border=\"1\" class=\"dataframe\">\n",
       "  <thead>\n",
       "    <tr style=\"text-align: right;\">\n",
       "      <th>housing</th>\n",
       "      <th>free</th>\n",
       "      <th>own</th>\n",
       "      <th>rent</th>\n",
       "    </tr>\n",
       "    <tr>\n",
       "      <th>risk</th>\n",
       "      <th></th>\n",
       "      <th></th>\n",
       "      <th></th>\n",
       "    </tr>\n",
       "  </thead>\n",
       "  <tbody>\n",
       "    <tr>\n",
       "      <th>bad</th>\n",
       "      <td>44.0000</td>\n",
       "      <td>33.311828</td>\n",
       "      <td>29.385714</td>\n",
       "    </tr>\n",
       "    <tr>\n",
       "      <th>good</th>\n",
       "      <td>43.6875</td>\n",
       "      <td>36.398482</td>\n",
       "      <td>31.000000</td>\n",
       "    </tr>\n",
       "  </tbody>\n",
       "</table>\n",
       "</div>"
      ],
      "text/plain": [
       "housing     free        own       rent\n",
       "risk                                  \n",
       "bad      44.0000  33.311828  29.385714\n",
       "good     43.6875  36.398482  31.000000"
      ]
     },
     "execution_count": 33,
     "metadata": {},
     "output_type": "execute_result"
    }
   ],
   "source": [
    "pivot10 = df.pivot_table(index = 'risk', columns = 'housing', values = 'age')\n",
    "pivot10"
   ]
  },
  {
   "cell_type": "code",
   "execution_count": 34,
   "id": "fd8588fa",
   "metadata": {},
   "outputs": [
    {
     "data": {
      "image/png": "[encoded data removed]",
      "text/plain": [
       "<Figure size 1008x432 with 1 Axes>"
      ]
     },
     "metadata": {
      "needs_background": "light"
     },
     "output_type": "display_data"
    }
   ],
   "source": [
    "pivot10.plot(kind='bar', figsize=(14,6))\n",
    "plt.xticks(rotation=0, fontsize=13)\n",
    "plt.title('Age Risk Based on Housing', fontsize=15)\n",
    "plt.xlabel('Risk', fontsize=15)\n",
    "plt.ylabel('Age', fontsize=15)\n",
    "plt.show()"
   ]
  },
  {
   "cell_type": "code",
   "execution_count": 35,
   "id": "2c21b278",
   "metadata": {},
   "outputs": [
    {
     "data": {
      "image/png": "[encoded data removed]",
      "text/plain": [
       "<Figure size 1008x432 with 1 Axes>"
      ]
     },
     "metadata": {
      "needs_background": "light"
     },
     "output_type": "display_data"
    }
   ],
   "source": [
    "good_risk = df[df['risk'] == 'good']\n",
    "bad_risk = df[df['risk'] == 'bad']\n",
    "\n",
    "plt.figure(figsize=(14, 6))\n",
    "sns.distplot(good_risk[\"age\"], color=\"g\", label='Good Risk')\n",
    "sns.distplot(bad_risk[\"age\"], color='r', label='Bad Risk')\n",
    "plt.title('Risk by Age', fontsize=16)\n",
    "plt.ylabel('')\n",
    "plt.xlabel('Age', fontsize=14)\n",
    "plt.legend()\n",
    "plt.show()"
   ]
  },
  {
   "cell_type": "markdown",
   "id": "ad084fe9",
   "metadata": {},
   "source": [
    "### Observations for Age:  \n",
    "\n",
    "- The age variable had a similar results to the credit amount. Using age for analysis, we gained some insights into this.  \n",
    "\n",
    "- As with credit amount, the common theme observed and compared with respect to age was that generally, those who are older tend to be a better risk as opposed to younger individuals.  "
   ]
  },
  {
   "cell_type": "markdown",
   "id": "7a1348ce",
   "metadata": {},
   "source": [
    "### 3.9 Exploring Duration"
   ]
  },
  {
   "cell_type": "code",
   "execution_count": 36,
   "id": "589cf7de",
   "metadata": {},
   "outputs": [
    {
     "data": {
      "text/html": [
       "<div>\n",
       "<style scoped>\n",
       "    .dataframe tbody tr th:only-of-type {\n",
       "        vertical-align: middle;\n",
       "    }\n",
       "\n",
       "    .dataframe tbody tr th {\n",
       "        vertical-align: top;\n",
       "    }\n",
       "\n",
       "    .dataframe thead th {\n",
       "        text-align: right;\n",
       "    }\n",
       "</style>\n",
       "<table border=\"1\" class=\"dataframe\">\n",
       "  <thead>\n",
       "    <tr style=\"text-align: right;\">\n",
       "      <th>sex</th>\n",
       "      <th>female</th>\n",
       "      <th>male</th>\n",
       "    </tr>\n",
       "    <tr>\n",
       "      <th>risk</th>\n",
       "      <th></th>\n",
       "      <th></th>\n",
       "    </tr>\n",
       "  </thead>\n",
       "  <tbody>\n",
       "    <tr>\n",
       "      <th>bad</th>\n",
       "      <td>22.926606</td>\n",
       "      <td>25.963351</td>\n",
       "    </tr>\n",
       "    <tr>\n",
       "      <th>good</th>\n",
       "      <td>17.547264</td>\n",
       "      <td>19.875752</td>\n",
       "    </tr>\n",
       "  </tbody>\n",
       "</table>\n",
       "</div>"
      ],
      "text/plain": [
       "sex      female       male\n",
       "risk                      \n",
       "bad   22.926606  25.963351\n",
       "good  17.547264  19.875752"
      ]
     },
     "execution_count": 36,
     "metadata": {},
     "output_type": "execute_result"
    }
   ],
   "source": [
    "pt1 = df.pivot_table(index = 'risk', columns = 'sex', values = 'duration')\n",
    "pt1"
   ]
  },
  {
   "cell_type": "code",
   "execution_count": 37,
   "id": "d6fc6a4c",
   "metadata": {},
   "outputs": [
    {
     "data": {
      "image/png": "[encoded data removed]",
      "text/plain": [
       "<Figure size 864x360 with 1 Axes>"
      ]
     },
     "metadata": {
      "needs_background": "light"
     },
     "output_type": "display_data"
    }
   ],
   "source": [
    "plt.figure(figsize = (12, 5))\n",
    "sns.boxplot(y = \"sex\", x = \"duration\", hue = 'risk', data = df)\n",
    "plt.title('Duration Risk Based on Gender', fontsize = 15)\n",
    "plt.xlabel('Duration', fontsize = 15)\n",
    "plt.ylabel('Sex', fontsize = 15)\n",
    "plt.yticks(rotation = 0, fontsize = 13)\n",
    "plt.tight_layout()\n",
    "plt.show()"
   ]
  },
  {
   "cell_type": "code",
   "execution_count": 38,
   "id": "50265390",
   "metadata": {},
   "outputs": [
    {
     "data": {
      "text/html": [
       "<div>\n",
       "<style scoped>\n",
       "    .dataframe tbody tr th:only-of-type {\n",
       "        vertical-align: middle;\n",
       "    }\n",
       "\n",
       "    .dataframe tbody tr th {\n",
       "        vertical-align: top;\n",
       "    }\n",
       "\n",
       "    .dataframe thead th {\n",
       "        text-align: right;\n",
       "    }\n",
       "</style>\n",
       "<table border=\"1\" class=\"dataframe\">\n",
       "  <thead>\n",
       "    <tr style=\"text-align: right;\">\n",
       "      <th>job</th>\n",
       "      <th>0</th>\n",
       "      <th>1</th>\n",
       "      <th>2</th>\n",
       "      <th>3</th>\n",
       "    </tr>\n",
       "    <tr>\n",
       "      <th>risk</th>\n",
       "      <th></th>\n",
       "      <th></th>\n",
       "      <th></th>\n",
       "      <th></th>\n",
       "    </tr>\n",
       "  </thead>\n",
       "  <tbody>\n",
       "    <tr>\n",
       "      <th>bad</th>\n",
       "      <td>15.857143</td>\n",
       "      <td>20.750000</td>\n",
       "      <td>25.661290</td>\n",
       "      <td>27.686275</td>\n",
       "    </tr>\n",
       "    <tr>\n",
       "      <th>good</th>\n",
       "      <td>18.066667</td>\n",
       "      <td>14.895833</td>\n",
       "      <td>19.630631</td>\n",
       "      <td>23.845361</td>\n",
       "    </tr>\n",
       "  </tbody>\n",
       "</table>\n",
       "</div>"
      ],
      "text/plain": [
       "job           0          1          2          3\n",
       "risk                                            \n",
       "bad   15.857143  20.750000  25.661290  27.686275\n",
       "good  18.066667  14.895833  19.630631  23.845361"
      ]
     },
     "execution_count": 38,
     "metadata": {},
     "output_type": "execute_result"
    }
   ],
   "source": [
    "pt2 = df.pivot_table(index = 'risk', columns = 'job', values = 'duration')\n",
    "pt2"
   ]
  },
  {
   "cell_type": "code",
   "execution_count": 39,
   "id": "000873c0",
   "metadata": {},
   "outputs": [
    {
     "data": {
      "image/png": "[encoded data removed]",
      "text/plain": [
       "<Figure size 864x432 with 1 Axes>"
      ]
     },
     "metadata": {
      "needs_background": "light"
     },
     "output_type": "display_data"
    }
   ],
   "source": [
    "plt.figure(figsize = (12, 6))\n",
    "sns.violinplot(x = \"job\", y = \"duration\", hue = 'risk', data = df, split = True)\n",
    "plt.title('Duration Risk Based on Job Type', fontsize = 15)\n",
    "plt.xlabel('Job Type', fontsize = 15)\n",
    "plt.ylabel('Duration', fontsize = 15)\n",
    "plt.xticks([0,1,2,3], ['Unskilled & non-resident', 'Unskilled & resident', 'Skilled', 'Highly Skilled'], \n",
    "           rotation = 0, fontsize = 13)\n",
    "plt.tight_layout()\n",
    "plt.show()"
   ]
  },
  {
   "cell_type": "code",
   "execution_count": 40,
   "id": "b251f567",
   "metadata": {},
   "outputs": [
    {
     "data": {
      "text/html": [
       "<div>\n",
       "<style scoped>\n",
       "    .dataframe tbody tr th:only-of-type {\n",
       "        vertical-align: middle;\n",
       "    }\n",
       "\n",
       "    .dataframe tbody tr th {\n",
       "        vertical-align: top;\n",
       "    }\n",
       "\n",
       "    .dataframe thead th {\n",
       "        text-align: right;\n",
       "    }\n",
       "</style>\n",
       "<table border=\"1\" class=\"dataframe\">\n",
       "  <thead>\n",
       "    <tr style=\"text-align: right;\">\n",
       "      <th>checking_account</th>\n",
       "      <th>little</th>\n",
       "      <th>moderate</th>\n",
       "      <th>rich</th>\n",
       "    </tr>\n",
       "    <tr>\n",
       "      <th>risk</th>\n",
       "      <th></th>\n",
       "      <th></th>\n",
       "      <th></th>\n",
       "    </tr>\n",
       "  </thead>\n",
       "  <tbody>\n",
       "    <tr>\n",
       "      <th>bad</th>\n",
       "      <td>24.298343</td>\n",
       "      <td>26.733333</td>\n",
       "      <td>18.071429</td>\n",
       "    </tr>\n",
       "    <tr>\n",
       "      <th>good</th>\n",
       "      <td>19.119097</td>\n",
       "      <td>20.085366</td>\n",
       "      <td>17.142857</td>\n",
       "    </tr>\n",
       "  </tbody>\n",
       "</table>\n",
       "</div>"
      ],
      "text/plain": [
       "checking_account     little   moderate       rich\n",
       "risk                                             \n",
       "bad               24.298343  26.733333  18.071429\n",
       "good              19.119097  20.085366  17.142857"
      ]
     },
     "execution_count": 40,
     "metadata": {},
     "output_type": "execute_result"
    }
   ],
   "source": [
    "pt3 = df.pivot_table(index = 'risk', columns = 'checking_account', values = 'duration')\n",
    "pt3"
   ]
  },
  {
   "cell_type": "code",
   "execution_count": 41,
   "id": "0711a4e5",
   "metadata": {},
   "outputs": [
    {
     "data": {
      "image/png": "[encoded data removed]",
      "text/plain": [
       "<Figure size 864x360 with 1 Axes>"
      ]
     },
     "metadata": {
      "needs_background": "light"
     },
     "output_type": "display_data"
    }
   ],
   "source": [
    "plt.figure(figsize = (12, 5))\n",
    "sns.boxplot(y = \"checking_account\", x = \"duration\", hue = 'risk', data = df)\n",
    "plt.title('Duration Risk Based on Checking Account', fontsize = 15)\n",
    "plt.xlabel('Duration', fontsize = 15)\n",
    "plt.ylabel('Checking Account', fontsize = 15)\n",
    "plt.yticks(rotation = 0, fontsize = 13)\n",
    "plt.tight_layout()\n",
    "plt.show()"
   ]
  },
  {
   "cell_type": "code",
   "execution_count": 42,
   "id": "81976f92",
   "metadata": {},
   "outputs": [
    {
     "data": {
      "text/html": [
       "<div>\n",
       "<style scoped>\n",
       "    .dataframe tbody tr th:only-of-type {\n",
       "        vertical-align: middle;\n",
       "    }\n",
       "\n",
       "    .dataframe tbody tr th {\n",
       "        vertical-align: top;\n",
       "    }\n",
       "\n",
       "    .dataframe thead th {\n",
       "        text-align: right;\n",
       "    }\n",
       "</style>\n",
       "<table border=\"1\" class=\"dataframe\">\n",
       "  <thead>\n",
       "    <tr style=\"text-align: right;\">\n",
       "      <th>saving_accounts</th>\n",
       "      <th>little</th>\n",
       "      <th>moderate</th>\n",
       "      <th>quite rich</th>\n",
       "      <th>rich</th>\n",
       "    </tr>\n",
       "    <tr>\n",
       "      <th>risk</th>\n",
       "      <th></th>\n",
       "      <th></th>\n",
       "      <th></th>\n",
       "      <th></th>\n",
       "    </tr>\n",
       "  </thead>\n",
       "  <tbody>\n",
       "    <tr>\n",
       "      <th>bad</th>\n",
       "      <td>24.730924</td>\n",
       "      <td>27.558824</td>\n",
       "      <td>22.636364</td>\n",
       "      <td>19.000000</td>\n",
       "    </tr>\n",
       "    <tr>\n",
       "      <th>good</th>\n",
       "      <td>19.227188</td>\n",
       "      <td>20.362319</td>\n",
       "      <td>18.269231</td>\n",
       "      <td>18.214286</td>\n",
       "    </tr>\n",
       "  </tbody>\n",
       "</table>\n",
       "</div>"
      ],
      "text/plain": [
       "saving_accounts     little   moderate  quite rich       rich\n",
       "risk                                                        \n",
       "bad              24.730924  27.558824   22.636364  19.000000\n",
       "good             19.227188  20.362319   18.269231  18.214286"
      ]
     },
     "execution_count": 42,
     "metadata": {},
     "output_type": "execute_result"
    }
   ],
   "source": [
    "pt4 = df.pivot_table(index = 'risk', columns = 'saving_accounts', values = 'duration')\n",
    "pt4"
   ]
  },
  {
   "cell_type": "code",
   "execution_count": 43,
   "id": "88275502",
   "metadata": {},
   "outputs": [
    {
     "data": {
      "image/png": "[encoded data removed]",
      "text/plain": [
       "<Figure size 864x432 with 1 Axes>"
      ]
     },
     "metadata": {
      "needs_background": "light"
     },
     "output_type": "display_data"
    }
   ],
   "source": [
    "plt.figure(figsize = (12, 6))\n",
    "sns.violinplot(x = \"saving_accounts\", y = \"duration\", hue = 'risk', data = df, split = True)\n",
    "plt.title('Duration Risk Based on Savings Account', fontsize = 15)\n",
    "plt.xlabel('Duration', fontsize = 15)\n",
    "plt.ylabel('Savings Account', fontsize = 15)\n",
    "plt.yticks(rotation = 0, fontsize = 13)\n",
    "plt.tight_layout()\n",
    "plt.show()"
   ]
  },
  {
   "cell_type": "code",
   "execution_count": 44,
   "id": "e972b245",
   "metadata": {},
   "outputs": [
    {
     "data": {
      "text/html": [
       "<div>\n",
       "<style scoped>\n",
       "    .dataframe tbody tr th:only-of-type {\n",
       "        vertical-align: middle;\n",
       "    }\n",
       "\n",
       "    .dataframe tbody tr th {\n",
       "        vertical-align: top;\n",
       "    }\n",
       "\n",
       "    .dataframe thead th {\n",
       "        text-align: right;\n",
       "    }\n",
       "</style>\n",
       "<table border=\"1\" class=\"dataframe\">\n",
       "  <thead>\n",
       "    <tr style=\"text-align: right;\">\n",
       "      <th>housing</th>\n",
       "      <th>free</th>\n",
       "      <th>own</th>\n",
       "      <th>rent</th>\n",
       "    </tr>\n",
       "    <tr>\n",
       "      <th>risk</th>\n",
       "      <th></th>\n",
       "      <th></th>\n",
       "      <th></th>\n",
       "    </tr>\n",
       "  </thead>\n",
       "  <tbody>\n",
       "    <tr>\n",
       "      <th>bad</th>\n",
       "      <td>30.022727</td>\n",
       "      <td>23.940860</td>\n",
       "      <td>24.057143</td>\n",
       "    </tr>\n",
       "    <tr>\n",
       "      <th>good</th>\n",
       "      <td>25.687500</td>\n",
       "      <td>19.053131</td>\n",
       "      <td>16.146789</td>\n",
       "    </tr>\n",
       "  </tbody>\n",
       "</table>\n",
       "</div>"
      ],
      "text/plain": [
       "housing       free        own       rent\n",
       "risk                                    \n",
       "bad      30.022727  23.940860  24.057143\n",
       "good     25.687500  19.053131  16.146789"
      ]
     },
     "execution_count": 44,
     "metadata": {},
     "output_type": "execute_result"
    }
   ],
   "source": [
    "pt5 = df.pivot_table(index = 'risk', columns = 'housing', values = 'duration')\n",
    "pt5"
   ]
  },
  {
   "cell_type": "code",
   "execution_count": 45,
   "id": "55c2a0f3",
   "metadata": {},
   "outputs": [
    {
     "data": {
      "image/png": "[encoded data removed]",
      "text/plain": [
       "<Figure size 864x360 with 1 Axes>"
      ]
     },
     "metadata": {
      "needs_background": "light"
     },
     "output_type": "display_data"
    }
   ],
   "source": [
    "plt.figure(figsize = (12, 5))\n",
    "sns.boxplot(y = \"housing\", x = \"duration\", hue = 'risk', data = df)\n",
    "plt.title('Duration Risk Based on Housing', fontsize = 15)\n",
    "plt.xlabel('Duration', fontsize = 15)\n",
    "plt.ylabel('Housing', fontsize = 15)\n",
    "plt.yticks(rotation = 0, fontsize = 13)\n",
    "plt.tight_layout()\n",
    "plt.show()"
   ]
  },
  {
   "cell_type": "markdown",
   "id": "79cad266",
   "metadata": {},
   "source": [
    "### Observations for Duration:  \n",
    "\n",
    "- The duration variable had a similar results to the credit amount & age. Using duration for analysis, we gained some insights into this.  \n",
    "\n",
    "- As with credit amount & age, the common theme observed and compared with respect to duration was that generally, shorter durations tend to be a better risk as opposed to longer ones.  "
   ]
  },
  {
   "cell_type": "markdown",
   "id": "75022c27",
   "metadata": {},
   "source": [
    "## 4. Feature Engineering  \n",
    "\n",
    "<strong>Action Plan:</strong>  \n",
    "\n",
    "1) Create an age class column, 1 to 5. 1 will be those aged 19-29, 2 are those aged 30-39, 3 are those aged 40-49, 4 are those aged 50-59, and lastly 5 will be those aged 60 years old onwards.  \n",
    "\n",
    "2) Classify credit amount into 4 segments using the pandas.cut() method to prepare it for the model.  \n",
    "\n",
    "3) <strong>Purpose:</strong> I will be consolidating the bottom 3 into 1 called \"others\" as they represent a small amount.  \n",
    "\n",
    "4) <strong>Duration:</strong> I will be classifying this column into 6. 1 is for duration less than or equal to 12, 2 is for duration of less than or equal to 24, and so forth until 6.  \n",
    "\n",
    "5) <strong>Risk:</strong> I will be changing good to 0 and bad to 1.  \n",
    "\n",
    "6) I will be applying pandas.get_dummies() method for the sex, housing, saving_accounts, checking_account & purpose columns.  "
   ]
  },
  {
   "cell_type": "markdown",
   "id": "94dcc2a7",
   "metadata": {},
   "source": [
    "### 4.1 Creating Age Classes"
   ]
  },
  {
   "cell_type": "code",
   "execution_count": 46,
   "id": "edb14cd2",
   "metadata": {},
   "outputs": [],
   "source": [
    "def age_ranges(x):\n",
    "    if x >= 60:\n",
    "        age_class = 5\n",
    "    elif x >= 50 and x < 60:\n",
    "        age_class = 4\n",
    "    elif x >= 40 and x < 50:\n",
    "        age_class = 3\n",
    "    elif x >= 30 and x < 40:\n",
    "        age_class = 2\n",
    "    else:\n",
    "        age_class = 1\n",
    "    return age_class"
   ]
  },
  {
   "cell_type": "code",
   "execution_count": 47,
   "id": "284bcd51",
   "metadata": {},
   "outputs": [
    {
     "data": {
      "text/plain": [
       "1    37.1\n",
       "2    33.0\n",
       "3    17.4\n",
       "4     7.4\n",
       "5     5.1\n",
       "Name: age, dtype: float64"
      ]
     },
     "execution_count": 47,
     "metadata": {},
     "output_type": "execute_result"
    }
   ],
   "source": [
    "df['age'] = df['age'].apply(age_ranges)\n",
    "df['age'].value_counts(normalize = True)*100"
   ]
  },
  {
   "cell_type": "markdown",
   "id": "31eec506",
   "metadata": {},
   "source": [
    "### 4.2 Credit Amount"
   ]
  },
  {
   "cell_type": "code",
   "execution_count": 48,
   "id": "0c089793",
   "metadata": {},
   "outputs": [
    {
     "data": {
      "text/html": [
       "<div>\n",
       "<style scoped>\n",
       "    .dataframe tbody tr th:only-of-type {\n",
       "        vertical-align: middle;\n",
       "    }\n",
       "\n",
       "    .dataframe tbody tr th {\n",
       "        vertical-align: top;\n",
       "    }\n",
       "\n",
       "    .dataframe thead th {\n",
       "        text-align: right;\n",
       "    }\n",
       "</style>\n",
       "<table border=\"1\" class=\"dataframe\">\n",
       "  <thead>\n",
       "    <tr style=\"text-align: right;\">\n",
       "      <th></th>\n",
       "      <th>age</th>\n",
       "      <th>sex</th>\n",
       "      <th>job</th>\n",
       "      <th>housing</th>\n",
       "      <th>saving_accounts</th>\n",
       "      <th>checking_account</th>\n",
       "      <th>credit_amount</th>\n",
       "      <th>duration</th>\n",
       "      <th>purpose</th>\n",
       "      <th>risk</th>\n",
       "      <th>credit</th>\n",
       "    </tr>\n",
       "  </thead>\n",
       "  <tbody>\n",
       "    <tr>\n",
       "      <th>0</th>\n",
       "      <td>5</td>\n",
       "      <td>male</td>\n",
       "      <td>2</td>\n",
       "      <td>own</td>\n",
       "      <td>little</td>\n",
       "      <td>little</td>\n",
       "      <td>1169</td>\n",
       "      <td>6</td>\n",
       "      <td>radio/TV</td>\n",
       "      <td>good</td>\n",
       "      <td>1</td>\n",
       "    </tr>\n",
       "    <tr>\n",
       "      <th>1</th>\n",
       "      <td>1</td>\n",
       "      <td>female</td>\n",
       "      <td>2</td>\n",
       "      <td>own</td>\n",
       "      <td>little</td>\n",
       "      <td>moderate</td>\n",
       "      <td>5951</td>\n",
       "      <td>48</td>\n",
       "      <td>radio/TV</td>\n",
       "      <td>bad</td>\n",
       "      <td>2</td>\n",
       "    </tr>\n",
       "    <tr>\n",
       "      <th>2</th>\n",
       "      <td>3</td>\n",
       "      <td>male</td>\n",
       "      <td>1</td>\n",
       "      <td>own</td>\n",
       "      <td>little</td>\n",
       "      <td>little</td>\n",
       "      <td>2096</td>\n",
       "      <td>12</td>\n",
       "      <td>education</td>\n",
       "      <td>good</td>\n",
       "      <td>1</td>\n",
       "    </tr>\n",
       "    <tr>\n",
       "      <th>3</th>\n",
       "      <td>3</td>\n",
       "      <td>male</td>\n",
       "      <td>2</td>\n",
       "      <td>free</td>\n",
       "      <td>little</td>\n",
       "      <td>little</td>\n",
       "      <td>7882</td>\n",
       "      <td>42</td>\n",
       "      <td>furniture/equipment</td>\n",
       "      <td>good</td>\n",
       "      <td>2</td>\n",
       "    </tr>\n",
       "    <tr>\n",
       "      <th>4</th>\n",
       "      <td>4</td>\n",
       "      <td>male</td>\n",
       "      <td>2</td>\n",
       "      <td>free</td>\n",
       "      <td>little</td>\n",
       "      <td>little</td>\n",
       "      <td>4870</td>\n",
       "      <td>24</td>\n",
       "      <td>car</td>\n",
       "      <td>bad</td>\n",
       "      <td>2</td>\n",
       "    </tr>\n",
       "  </tbody>\n",
       "</table>\n",
       "</div>"
      ],
      "text/plain": [
       "   age     sex  job housing saving_accounts checking_account  credit_amount  \\\n",
       "0    5    male    2     own          little           little           1169   \n",
       "1    1  female    2     own          little         moderate           5951   \n",
       "2    3    male    1     own          little           little           2096   \n",
       "3    3    male    2    free          little           little           7882   \n",
       "4    4    male    2    free          little           little           4870   \n",
       "\n",
       "   duration              purpose  risk credit  \n",
       "0         6             radio/TV  good      1  \n",
       "1        48             radio/TV   bad      2  \n",
       "2        12            education  good      1  \n",
       "3        42  furniture/equipment  good      2  \n",
       "4        24                  car   bad      2  "
      ]
     },
     "execution_count": 48,
     "metadata": {},
     "output_type": "execute_result"
    }
   ],
   "source": [
    "df['credit'] = pd.cut(df['credit_amount'], bins = 4, labels = ['1', '2', '3', '4'])\n",
    "df.head()"
   ]
  },
  {
   "cell_type": "code",
   "execution_count": 49,
   "id": "e832ecab",
   "metadata": {},
   "outputs": [],
   "source": [
    "df.drop(columns = 'credit_amount',axis = 1, inplace = True)"
   ]
  },
  {
   "cell_type": "markdown",
   "id": "db1bf5e3",
   "metadata": {},
   "source": [
    "### 4.3 Purpose"
   ]
  },
  {
   "cell_type": "code",
   "execution_count": 50,
   "id": "da0fa9bb",
   "metadata": {},
   "outputs": [],
   "source": [
    "df['purpose'] = np.where(df['purpose'] == 'repairs', 'others', \n",
    "                         np.where(df['purpose'] == 'domestic appliances', 'others', \n",
    "                                  np.where(df['purpose'] == 'vacation/others', 'others', df['purpose'])))"
   ]
  },
  {
   "cell_type": "markdown",
   "id": "18a69495",
   "metadata": {},
   "source": [
    "### 4.4 Duration"
   ]
  },
  {
   "cell_type": "code",
   "execution_count": 51,
   "id": "53bfaa18",
   "metadata": {},
   "outputs": [],
   "source": [
    "def duration_ranges(x):\n",
    "    if x >= 60:\n",
    "        duration_class = 6\n",
    "    elif x >= 48 and x < 60:\n",
    "        duration_class = 5\n",
    "    elif x >= 36 and x < 48:\n",
    "        duration_class = 4\n",
    "    elif x >= 24 and x < 36:\n",
    "        duration_class = 3\n",
    "    elif x >= 12 and x < 24:\n",
    "        duration_class = 2\n",
    "    else:\n",
    "        duration_class = 1\n",
    "    return duration_class"
   ]
  },
  {
   "cell_type": "code",
   "execution_count": 52,
   "id": "c9c308ab",
   "metadata": {},
   "outputs": [
    {
     "data": {
      "text/plain": [
       "2    40.6\n",
       "3    24.4\n",
       "1    18.0\n",
       "4    10.6\n",
       "5     5.0\n",
       "6     1.4\n",
       "Name: duration, dtype: float64"
      ]
     },
     "execution_count": 52,
     "metadata": {},
     "output_type": "execute_result"
    }
   ],
   "source": [
    "df['duration'] = df['duration'].apply(duration_ranges)\n",
    "df['duration'].value_counts(normalize = True)*100"
   ]
  },
  {
   "cell_type": "markdown",
   "id": "a281aa82",
   "metadata": {},
   "source": [
    "### 4.5 Changing the Risk"
   ]
  },
  {
   "cell_type": "code",
   "execution_count": 53,
   "id": "a5295287",
   "metadata": {},
   "outputs": [],
   "source": [
    "df['risk'].replace('bad', 1, inplace=True)\n",
    "df['risk'].replace('good', 0, inplace=True)"
   ]
  },
  {
   "cell_type": "markdown",
   "id": "2a0e8a04",
   "metadata": {},
   "source": [
    "### 4.6 Applying pd.dummies_get()"
   ]
  },
  {
   "cell_type": "code",
   "execution_count": 54,
   "id": "633c5ab1",
   "metadata": {},
   "outputs": [
    {
     "data": {
      "text/html": [
       "<div>\n",
       "<style scoped>\n",
       "    .dataframe tbody tr th:only-of-type {\n",
       "        vertical-align: middle;\n",
       "    }\n",
       "\n",
       "    .dataframe tbody tr th {\n",
       "        vertical-align: top;\n",
       "    }\n",
       "\n",
       "    .dataframe thead th {\n",
       "        text-align: right;\n",
       "    }\n",
       "</style>\n",
       "<table border=\"1\" class=\"dataframe\">\n",
       "  <thead>\n",
       "    <tr style=\"text-align: right;\">\n",
       "      <th></th>\n",
       "      <th>age</th>\n",
       "      <th>job</th>\n",
       "      <th>duration</th>\n",
       "      <th>risk</th>\n",
       "      <th>credit</th>\n",
       "      <th>sex_male</th>\n",
       "      <th>housing_own</th>\n",
       "      <th>housing_rent</th>\n",
       "      <th>saving_accounts_moderate</th>\n",
       "      <th>saving_accounts_quite rich</th>\n",
       "      <th>saving_accounts_rich</th>\n",
       "      <th>checking_account_moderate</th>\n",
       "      <th>checking_account_rich</th>\n",
       "      <th>purpose_car</th>\n",
       "      <th>purpose_education</th>\n",
       "      <th>purpose_furniture/equipment</th>\n",
       "      <th>purpose_others</th>\n",
       "      <th>purpose_radio/TV</th>\n",
       "    </tr>\n",
       "  </thead>\n",
       "  <tbody>\n",
       "    <tr>\n",
       "      <th>0</th>\n",
       "      <td>5</td>\n",
       "      <td>2</td>\n",
       "      <td>1</td>\n",
       "      <td>0</td>\n",
       "      <td>1</td>\n",
       "      <td>1</td>\n",
       "      <td>1</td>\n",
       "      <td>0</td>\n",
       "      <td>0</td>\n",
       "      <td>0</td>\n",
       "      <td>0</td>\n",
       "      <td>0</td>\n",
       "      <td>0</td>\n",
       "      <td>0</td>\n",
       "      <td>0</td>\n",
       "      <td>0</td>\n",
       "      <td>0</td>\n",
       "      <td>1</td>\n",
       "    </tr>\n",
       "    <tr>\n",
       "      <th>1</th>\n",
       "      <td>1</td>\n",
       "      <td>2</td>\n",
       "      <td>5</td>\n",
       "      <td>1</td>\n",
       "      <td>2</td>\n",
       "      <td>0</td>\n",
       "      <td>1</td>\n",
       "      <td>0</td>\n",
       "      <td>0</td>\n",
       "      <td>0</td>\n",
       "      <td>0</td>\n",
       "      <td>1</td>\n",
       "      <td>0</td>\n",
       "      <td>0</td>\n",
       "      <td>0</td>\n",
       "      <td>0</td>\n",
       "      <td>0</td>\n",
       "      <td>1</td>\n",
       "    </tr>\n",
       "    <tr>\n",
       "      <th>2</th>\n",
       "      <td>3</td>\n",
       "      <td>1</td>\n",
       "      <td>2</td>\n",
       "      <td>0</td>\n",
       "      <td>1</td>\n",
       "      <td>1</td>\n",
       "      <td>1</td>\n",
       "      <td>0</td>\n",
       "      <td>0</td>\n",
       "      <td>0</td>\n",
       "      <td>0</td>\n",
       "      <td>0</td>\n",
       "      <td>0</td>\n",
       "      <td>0</td>\n",
       "      <td>1</td>\n",
       "      <td>0</td>\n",
       "      <td>0</td>\n",
       "      <td>0</td>\n",
       "    </tr>\n",
       "    <tr>\n",
       "      <th>3</th>\n",
       "      <td>3</td>\n",
       "      <td>2</td>\n",
       "      <td>4</td>\n",
       "      <td>0</td>\n",
       "      <td>2</td>\n",
       "      <td>1</td>\n",
       "      <td>0</td>\n",
       "      <td>0</td>\n",
       "      <td>0</td>\n",
       "      <td>0</td>\n",
       "      <td>0</td>\n",
       "      <td>0</td>\n",
       "      <td>0</td>\n",
       "      <td>0</td>\n",
       "      <td>0</td>\n",
       "      <td>1</td>\n",
       "      <td>0</td>\n",
       "      <td>0</td>\n",
       "    </tr>\n",
       "    <tr>\n",
       "      <th>4</th>\n",
       "      <td>4</td>\n",
       "      <td>2</td>\n",
       "      <td>3</td>\n",
       "      <td>1</td>\n",
       "      <td>2</td>\n",
       "      <td>1</td>\n",
       "      <td>0</td>\n",
       "      <td>0</td>\n",
       "      <td>0</td>\n",
       "      <td>0</td>\n",
       "      <td>0</td>\n",
       "      <td>0</td>\n",
       "      <td>0</td>\n",
       "      <td>1</td>\n",
       "      <td>0</td>\n",
       "      <td>0</td>\n",
       "      <td>0</td>\n",
       "      <td>0</td>\n",
       "    </tr>\n",
       "  </tbody>\n",
       "</table>\n",
       "</div>"
      ],
      "text/plain": [
       "   age  job  duration  risk credit  sex_male  housing_own  housing_rent  \\\n",
       "0    5    2         1     0      1         1            1             0   \n",
       "1    1    2         5     1      2         0            1             0   \n",
       "2    3    1         2     0      1         1            1             0   \n",
       "3    3    2         4     0      2         1            0             0   \n",
       "4    4    2         3     1      2         1            0             0   \n",
       "\n",
       "   saving_accounts_moderate  saving_accounts_quite rich  saving_accounts_rich  \\\n",
       "0                         0                           0                     0   \n",
       "1                         0                           0                     0   \n",
       "2                         0                           0                     0   \n",
       "3                         0                           0                     0   \n",
       "4                         0                           0                     0   \n",
       "\n",
       "   checking_account_moderate  checking_account_rich  purpose_car  \\\n",
       "0                          0                      0            0   \n",
       "1                          1                      0            0   \n",
       "2                          0                      0            0   \n",
       "3                          0                      0            0   \n",
       "4                          0                      0            1   \n",
       "\n",
       "   purpose_education  purpose_furniture/equipment  purpose_others  \\\n",
       "0                  0                            0               0   \n",
       "1                  0                            0               0   \n",
       "2                  1                            0               0   \n",
       "3                  0                            1               0   \n",
       "4                  0                            0               0   \n",
       "\n",
       "   purpose_radio/TV  \n",
       "0                 1  \n",
       "1                 1  \n",
       "2                 0  \n",
       "3                 0  \n",
       "4                 0  "
      ]
     },
     "execution_count": 54,
     "metadata": {},
     "output_type": "execute_result"
    }
   ],
   "source": [
    "new_df = pd.get_dummies(df, columns = ['sex', 'housing', 'saving_accounts', 'checking_account', 'purpose'],drop_first=True)\n",
    "new_df.head()"
   ]
  },
  {
   "cell_type": "code",
   "execution_count": 55,
   "id": "aa5130b0",
   "metadata": {},
   "outputs": [
    {
     "data": {
      "text/plain": [
       "(1000, 18)"
      ]
     },
     "execution_count": 55,
     "metadata": {},
     "output_type": "execute_result"
    }
   ],
   "source": [
    "new_df.shape"
   ]
  },
  {
   "cell_type": "markdown",
   "id": "aaca2ddb",
   "metadata": {},
   "source": [
    "## 5. Correlation & Heatmap"
   ]
  },
  {
   "cell_type": "code",
   "execution_count": 56,
   "id": "7d9dac4b",
   "metadata": {},
   "outputs": [
    {
     "data": {
      "text/html": [
       "<div>\n",
       "<style scoped>\n",
       "    .dataframe tbody tr th:only-of-type {\n",
       "        vertical-align: middle;\n",
       "    }\n",
       "\n",
       "    .dataframe tbody tr th {\n",
       "        vertical-align: top;\n",
       "    }\n",
       "\n",
       "    .dataframe thead th {\n",
       "        text-align: right;\n",
       "    }\n",
       "</style>\n",
       "<table border=\"1\" class=\"dataframe\">\n",
       "  <thead>\n",
       "    <tr style=\"text-align: right;\">\n",
       "      <th></th>\n",
       "      <th>age</th>\n",
       "      <th>job</th>\n",
       "      <th>duration</th>\n",
       "      <th>risk</th>\n",
       "      <th>sex_male</th>\n",
       "      <th>housing_own</th>\n",
       "      <th>housing_rent</th>\n",
       "      <th>saving_accounts_moderate</th>\n",
       "      <th>saving_accounts_quite rich</th>\n",
       "      <th>saving_accounts_rich</th>\n",
       "      <th>checking_account_moderate</th>\n",
       "      <th>checking_account_rich</th>\n",
       "      <th>purpose_car</th>\n",
       "      <th>purpose_education</th>\n",
       "      <th>purpose_furniture/equipment</th>\n",
       "      <th>purpose_others</th>\n",
       "      <th>purpose_radio/TV</th>\n",
       "    </tr>\n",
       "  </thead>\n",
       "  <tbody>\n",
       "    <tr>\n",
       "      <th>age</th>\n",
       "      <td>1.000000</td>\n",
       "      <td>0.025593</td>\n",
       "      <td>-0.023365</td>\n",
       "      <td>-0.083026</td>\n",
       "      <td>0.162323</td>\n",
       "      <td>-0.008084</td>\n",
       "      <td>-0.192103</td>\n",
       "      <td>-0.060014</td>\n",
       "      <td>0.041498</td>\n",
       "      <td>0.037113</td>\n",
       "      <td>-0.071453</td>\n",
       "      <td>0.016124</td>\n",
       "      <td>0.083757</td>\n",
       "      <td>0.077986</td>\n",
       "      <td>-0.100247</td>\n",
       "      <td>0.042951</td>\n",
       "      <td>-0.053197</td>\n",
       "    </tr>\n",
       "    <tr>\n",
       "      <th>job</th>\n",
       "      <td>0.025593</td>\n",
       "      <td>1.000000</td>\n",
       "      <td>0.206594</td>\n",
       "      <td>0.032735</td>\n",
       "      <td>0.070298</td>\n",
       "      <td>-0.059393</td>\n",
       "      <td>-0.039195</td>\n",
       "      <td>0.004472</td>\n",
       "      <td>-0.037499</td>\n",
       "      <td>-0.017128</td>\n",
       "      <td>-0.004059</td>\n",
       "      <td>-0.050099</td>\n",
       "      <td>0.036762</td>\n",
       "      <td>-0.021672</td>\n",
       "      <td>0.013422</td>\n",
       "      <td>-0.026189</td>\n",
       "      <td>-0.027683</td>\n",
       "    </tr>\n",
       "    <tr>\n",
       "      <th>duration</th>\n",
       "      <td>-0.023365</td>\n",
       "      <td>0.206594</td>\n",
       "      <td>1.000000</td>\n",
       "      <td>0.214060</td>\n",
       "      <td>0.080765</td>\n",
       "      <td>-0.077213</td>\n",
       "      <td>-0.062658</td>\n",
       "      <td>0.044480</td>\n",
       "      <td>-0.033945</td>\n",
       "      <td>-0.045872</td>\n",
       "      <td>0.072166</td>\n",
       "      <td>-0.077436</td>\n",
       "      <td>-0.004534</td>\n",
       "      <td>-0.020323</td>\n",
       "      <td>-0.062304</td>\n",
       "      <td>0.020294</td>\n",
       "      <td>-0.041106</td>\n",
       "    </tr>\n",
       "    <tr>\n",
       "      <th>risk</th>\n",
       "      <td>-0.083026</td>\n",
       "      <td>0.032735</td>\n",
       "      <td>0.214060</td>\n",
       "      <td>1.000000</td>\n",
       "      <td>-0.075493</td>\n",
       "      <td>-0.134589</td>\n",
       "      <td>0.092785</td>\n",
       "      <td>0.022255</td>\n",
       "      <td>-0.070954</td>\n",
       "      <td>-0.085749</td>\n",
       "      <td>0.119581</td>\n",
       "      <td>-0.044009</td>\n",
       "      <td>0.022621</td>\n",
       "      <td>0.049085</td>\n",
       "      <td>0.020971</td>\n",
       "      <td>0.033334</td>\n",
       "      <td>-0.106922</td>\n",
       "    </tr>\n",
       "    <tr>\n",
       "      <th>sex_male</th>\n",
       "      <td>0.162323</td>\n",
       "      <td>0.070298</td>\n",
       "      <td>0.080765</td>\n",
       "      <td>-0.075493</td>\n",
       "      <td>1.000000</td>\n",
       "      <td>0.119638</td>\n",
       "      <td>-0.222845</td>\n",
       "      <td>-0.000498</td>\n",
       "      <td>0.031414</td>\n",
       "      <td>-0.041673</td>\n",
       "      <td>-0.012726</td>\n",
       "      <td>-0.004183</td>\n",
       "      <td>0.047893</td>\n",
       "      <td>-0.052397</td>\n",
       "      <td>-0.100467</td>\n",
       "      <td>0.002684</td>\n",
       "      <td>0.008668</td>\n",
       "    </tr>\n",
       "    <tr>\n",
       "      <th>housing_own</th>\n",
       "      <td>-0.008084</td>\n",
       "      <td>-0.059393</td>\n",
       "      <td>-0.077213</td>\n",
       "      <td>-0.134589</td>\n",
       "      <td>0.119638</td>\n",
       "      <td>1.000000</td>\n",
       "      <td>-0.735968</td>\n",
       "      <td>-0.017738</td>\n",
       "      <td>0.000737</td>\n",
       "      <td>0.028707</td>\n",
       "      <td>0.001012</td>\n",
       "      <td>0.018934</td>\n",
       "      <td>-0.099526</td>\n",
       "      <td>-0.075684</td>\n",
       "      <td>-0.040496</td>\n",
       "      <td>0.023237</td>\n",
       "      <td>0.134705</td>\n",
       "    </tr>\n",
       "    <tr>\n",
       "      <th>housing_rent</th>\n",
       "      <td>-0.192103</td>\n",
       "      <td>-0.039195</td>\n",
       "      <td>-0.062658</td>\n",
       "      <td>0.092785</td>\n",
       "      <td>-0.222845</td>\n",
       "      <td>-0.735968</td>\n",
       "      <td>1.000000</td>\n",
       "      <td>0.030578</td>\n",
       "      <td>0.007762</td>\n",
       "      <td>0.004979</td>\n",
       "      <td>-0.000888</td>\n",
       "      <td>-0.035183</td>\n",
       "      <td>0.014773</td>\n",
       "      <td>-0.006211</td>\n",
       "      <td>0.105700</td>\n",
       "      <td>-0.052723</td>\n",
       "      <td>-0.070414</td>\n",
       "    </tr>\n",
       "    <tr>\n",
       "      <th>saving_accounts_moderate</th>\n",
       "      <td>-0.060014</td>\n",
       "      <td>0.004472</td>\n",
       "      <td>0.044480</td>\n",
       "      <td>0.022255</td>\n",
       "      <td>-0.000498</td>\n",
       "      <td>-0.017738</td>\n",
       "      <td>0.030578</td>\n",
       "      <td>1.000000</td>\n",
       "      <td>-0.087866</td>\n",
       "      <td>-0.076089</td>\n",
       "      <td>0.143136</td>\n",
       "      <td>-0.020162</td>\n",
       "      <td>0.029852</td>\n",
       "      <td>-0.015038</td>\n",
       "      <td>-0.082398</td>\n",
       "      <td>0.019819</td>\n",
       "      <td>-0.013482</td>\n",
       "    </tr>\n",
       "    <tr>\n",
       "      <th>saving_accounts_quite rich</th>\n",
       "      <td>0.041498</td>\n",
       "      <td>-0.037499</td>\n",
       "      <td>-0.033945</td>\n",
       "      <td>-0.070954</td>\n",
       "      <td>0.031414</td>\n",
       "      <td>0.000737</td>\n",
       "      <td>0.007762</td>\n",
       "      <td>-0.087866</td>\n",
       "      <td>1.000000</td>\n",
       "      <td>-0.058224</td>\n",
       "      <td>-0.055198</td>\n",
       "      <td>0.000525</td>\n",
       "      <td>-0.028134</td>\n",
       "      <td>-0.012524</td>\n",
       "      <td>0.006382</td>\n",
       "      <td>0.002004</td>\n",
       "      <td>0.049134</td>\n",
       "    </tr>\n",
       "    <tr>\n",
       "      <th>saving_accounts_rich</th>\n",
       "      <td>0.037113</td>\n",
       "      <td>-0.017128</td>\n",
       "      <td>-0.045872</td>\n",
       "      <td>-0.085749</td>\n",
       "      <td>-0.041673</td>\n",
       "      <td>0.028707</td>\n",
       "      <td>0.004979</td>\n",
       "      <td>-0.076089</td>\n",
       "      <td>-0.058224</td>\n",
       "      <td>1.000000</td>\n",
       "      <td>0.011478</td>\n",
       "      <td>-0.000462</td>\n",
       "      <td>0.018052</td>\n",
       "      <td>-0.016518</td>\n",
       "      <td>0.028091</td>\n",
       "      <td>-0.004645</td>\n",
       "      <td>-0.046259</td>\n",
       "    </tr>\n",
       "    <tr>\n",
       "      <th>checking_account_moderate</th>\n",
       "      <td>-0.071453</td>\n",
       "      <td>-0.004059</td>\n",
       "      <td>0.072166</td>\n",
       "      <td>0.119581</td>\n",
       "      <td>-0.012726</td>\n",
       "      <td>0.001012</td>\n",
       "      <td>-0.000888</td>\n",
       "      <td>0.143136</td>\n",
       "      <td>-0.055198</td>\n",
       "      <td>0.011478</td>\n",
       "      <td>1.000000</td>\n",
       "      <td>-0.157296</td>\n",
       "      <td>-0.046053</td>\n",
       "      <td>0.001235</td>\n",
       "      <td>-0.056750</td>\n",
       "      <td>0.060564</td>\n",
       "      <td>-0.001607</td>\n",
       "    </tr>\n",
       "    <tr>\n",
       "      <th>checking_account_rich</th>\n",
       "      <td>0.016124</td>\n",
       "      <td>-0.050099</td>\n",
       "      <td>-0.077436</td>\n",
       "      <td>-0.044009</td>\n",
       "      <td>-0.004183</td>\n",
       "      <td>0.018934</td>\n",
       "      <td>-0.035183</td>\n",
       "      <td>-0.020162</td>\n",
       "      <td>0.000525</td>\n",
       "      <td>-0.000462</td>\n",
       "      <td>-0.157296</td>\n",
       "      <td>1.000000</td>\n",
       "      <td>-0.028134</td>\n",
       "      <td>0.004943</td>\n",
       "      <td>-0.004308</td>\n",
       "      <td>-0.037291</td>\n",
       "      <td>0.058300</td>\n",
       "    </tr>\n",
       "    <tr>\n",
       "      <th>purpose_car</th>\n",
       "      <td>0.083757</td>\n",
       "      <td>0.036762</td>\n",
       "      <td>-0.004534</td>\n",
       "      <td>0.022621</td>\n",
       "      <td>0.047893</td>\n",
       "      <td>-0.099526</td>\n",
       "      <td>0.014773</td>\n",
       "      <td>0.029852</td>\n",
       "      <td>-0.028134</td>\n",
       "      <td>0.018052</td>\n",
       "      <td>-0.046053</td>\n",
       "      <td>-0.028134</td>\n",
       "      <td>1.000000</td>\n",
       "      <td>-0.178521</td>\n",
       "      <td>-0.335163</td>\n",
       "      <td>-0.156554</td>\n",
       "      <td>-0.444602</td>\n",
       "    </tr>\n",
       "    <tr>\n",
       "      <th>purpose_education</th>\n",
       "      <td>0.077986</td>\n",
       "      <td>-0.021672</td>\n",
       "      <td>-0.020323</td>\n",
       "      <td>0.049085</td>\n",
       "      <td>-0.052397</td>\n",
       "      <td>-0.075684</td>\n",
       "      <td>-0.006211</td>\n",
       "      <td>-0.015038</td>\n",
       "      <td>-0.012524</td>\n",
       "      <td>-0.016518</td>\n",
       "      <td>0.001235</td>\n",
       "      <td>0.004943</td>\n",
       "      <td>-0.178521</td>\n",
       "      <td>1.000000</td>\n",
       "      <td>-0.117714</td>\n",
       "      <td>-0.054984</td>\n",
       "      <td>-0.156151</td>\n",
       "    </tr>\n",
       "    <tr>\n",
       "      <th>purpose_furniture/equipment</th>\n",
       "      <td>-0.100247</td>\n",
       "      <td>0.013422</td>\n",
       "      <td>-0.062304</td>\n",
       "      <td>0.020971</td>\n",
       "      <td>-0.100467</td>\n",
       "      <td>-0.040496</td>\n",
       "      <td>0.105700</td>\n",
       "      <td>-0.082398</td>\n",
       "      <td>0.006382</td>\n",
       "      <td>0.028091</td>\n",
       "      <td>-0.056750</td>\n",
       "      <td>-0.004308</td>\n",
       "      <td>-0.335163</td>\n",
       "      <td>-0.117714</td>\n",
       "      <td>1.000000</td>\n",
       "      <td>-0.103229</td>\n",
       "      <td>-0.293164</td>\n",
       "    </tr>\n",
       "    <tr>\n",
       "      <th>purpose_others</th>\n",
       "      <td>0.042951</td>\n",
       "      <td>-0.026189</td>\n",
       "      <td>0.020294</td>\n",
       "      <td>0.033334</td>\n",
       "      <td>0.002684</td>\n",
       "      <td>0.023237</td>\n",
       "      <td>-0.052723</td>\n",
       "      <td>0.019819</td>\n",
       "      <td>0.002004</td>\n",
       "      <td>-0.004645</td>\n",
       "      <td>0.060564</td>\n",
       "      <td>-0.037291</td>\n",
       "      <td>-0.156554</td>\n",
       "      <td>-0.054984</td>\n",
       "      <td>-0.103229</td>\n",
       "      <td>1.000000</td>\n",
       "      <td>-0.136936</td>\n",
       "    </tr>\n",
       "    <tr>\n",
       "      <th>purpose_radio/TV</th>\n",
       "      <td>-0.053197</td>\n",
       "      <td>-0.027683</td>\n",
       "      <td>-0.041106</td>\n",
       "      <td>-0.106922</td>\n",
       "      <td>0.008668</td>\n",
       "      <td>0.134705</td>\n",
       "      <td>-0.070414</td>\n",
       "      <td>-0.013482</td>\n",
       "      <td>0.049134</td>\n",
       "      <td>-0.046259</td>\n",
       "      <td>-0.001607</td>\n",
       "      <td>0.058300</td>\n",
       "      <td>-0.444602</td>\n",
       "      <td>-0.156151</td>\n",
       "      <td>-0.293164</td>\n",
       "      <td>-0.136936</td>\n",
       "      <td>1.000000</td>\n",
       "    </tr>\n",
       "  </tbody>\n",
       "</table>\n",
       "</div>"
      ],
      "text/plain": [
       "                                  age       job  duration      risk  sex_male  \\\n",
       "age                          1.000000  0.025593 -0.023365 -0.083026  0.162323   \n",
       "job                          0.025593  1.000000  0.206594  0.032735  0.070298   \n",
       "duration                    -0.023365  0.206594  1.000000  0.214060  0.080765   \n",
       "risk                        -0.083026  0.032735  0.214060  1.000000 -0.075493   \n",
       "sex_male                     0.162323  0.070298  0.080765 -0.075493  1.000000   \n",
       "housing_own                 -0.008084 -0.059393 -0.077213 -0.134589  0.119638   \n",
       "housing_rent                -0.192103 -0.039195 -0.062658  0.092785 -0.222845   \n",
       "saving_accounts_moderate    -0.060014  0.004472  0.044480  0.022255 -0.000498   \n",
       "saving_accounts_quite rich   0.041498 -0.037499 -0.033945 -0.070954  0.031414   \n",
       "saving_accounts_rich         0.037113 -0.017128 -0.045872 -0.085749 -0.041673   \n",
       "checking_account_moderate   -0.071453 -0.004059  0.072166  0.119581 -0.012726   \n",
       "checking_account_rich        0.016124 -0.050099 -0.077436 -0.044009 -0.004183   \n",
       "purpose_car                  0.083757  0.036762 -0.004534  0.022621  0.047893   \n",
       "purpose_education            0.077986 -0.021672 -0.020323  0.049085 -0.052397   \n",
       "purpose_furniture/equipment -0.100247  0.013422 -0.062304  0.020971 -0.100467   \n",
       "purpose_others               0.042951 -0.026189  0.020294  0.033334  0.002684   \n",
       "purpose_radio/TV            -0.053197 -0.027683 -0.041106 -0.106922  0.008668   \n",
       "\n",
       "                             housing_own  housing_rent  \\\n",
       "age                            -0.008084     -0.192103   \n",
       "job                            -0.059393     -0.039195   \n",
       "duration                       -0.077213     -0.062658   \n",
       "risk                           -0.134589      0.092785   \n",
       "sex_male                        0.119638     -0.222845   \n",
       "housing_own                     1.000000     -0.735968   \n",
       "housing_rent                   -0.735968      1.000000   \n",
       "saving_accounts_moderate       -0.017738      0.030578   \n",
       "saving_accounts_quite rich      0.000737      0.007762   \n",
       "saving_accounts_rich            0.028707      0.004979   \n",
       "checking_account_moderate       0.001012     -0.000888   \n",
       "checking_account_rich           0.018934     -0.035183   \n",
       "purpose_car                    -0.099526      0.014773   \n",
       "purpose_education              -0.075684     -0.006211   \n",
       "purpose_furniture/equipment    -0.040496      0.105700   \n",
       "purpose_others                  0.023237     -0.052723   \n",
       "purpose_radio/TV                0.134705     -0.070414   \n",
       "\n",
       "                             saving_accounts_moderate  \\\n",
       "age                                         -0.060014   \n",
       "job                                          0.004472   \n",
       "duration                                     0.044480   \n",
       "risk                                         0.022255   \n",
       "sex_male                                    -0.000498   \n",
       "housing_own                                 -0.017738   \n",
       "housing_rent                                 0.030578   \n",
       "saving_accounts_moderate                     1.000000   \n",
       "saving_accounts_quite rich                  -0.087866   \n",
       "saving_accounts_rich                        -0.076089   \n",
       "checking_account_moderate                    0.143136   \n",
       "checking_account_rich                       -0.020162   \n",
       "purpose_car                                  0.029852   \n",
       "purpose_education                           -0.015038   \n",
       "purpose_furniture/equipment                 -0.082398   \n",
       "purpose_others                               0.019819   \n",
       "purpose_radio/TV                            -0.013482   \n",
       "\n",
       "                             saving_accounts_quite rich  saving_accounts_rich  \\\n",
       "age                                            0.041498              0.037113   \n",
       "job                                           -0.037499             -0.017128   \n",
       "duration                                      -0.033945             -0.045872   \n",
       "risk                                          -0.070954             -0.085749   \n",
       "sex_male                                       0.031414             -0.041673   \n",
       "housing_own                                    0.000737              0.028707   \n",
       "housing_rent                                   0.007762              0.004979   \n",
       "saving_accounts_moderate                      -0.087866             -0.076089   \n",
       "saving_accounts_quite rich                     1.000000             -0.058224   \n",
       "saving_accounts_rich                          -0.058224              1.000000   \n",
       "checking_account_moderate                     -0.055198              0.011478   \n",
       "checking_account_rich                          0.000525             -0.000462   \n",
       "purpose_car                                   -0.028134              0.018052   \n",
       "purpose_education                             -0.012524             -0.016518   \n",
       "purpose_furniture/equipment                    0.006382              0.028091   \n",
       "purpose_others                                 0.002004             -0.004645   \n",
       "purpose_radio/TV                               0.049134             -0.046259   \n",
       "\n",
       "                             checking_account_moderate  checking_account_rich  \\\n",
       "age                                          -0.071453               0.016124   \n",
       "job                                          -0.004059              -0.050099   \n",
       "duration                                      0.072166              -0.077436   \n",
       "risk                                          0.119581              -0.044009   \n",
       "sex_male                                     -0.012726              -0.004183   \n",
       "housing_own                                   0.001012               0.018934   \n",
       "housing_rent                                 -0.000888              -0.035183   \n",
       "saving_accounts_moderate                      0.143136              -0.020162   \n",
       "saving_accounts_quite rich                   -0.055198               0.000525   \n",
       "saving_accounts_rich                          0.011478              -0.000462   \n",
       "checking_account_moderate                     1.000000              -0.157296   \n",
       "checking_account_rich                        -0.157296               1.000000   \n",
       "purpose_car                                  -0.046053              -0.028134   \n",
       "purpose_education                             0.001235               0.004943   \n",
       "purpose_furniture/equipment                  -0.056750              -0.004308   \n",
       "purpose_others                                0.060564              -0.037291   \n",
       "purpose_radio/TV                             -0.001607               0.058300   \n",
       "\n",
       "                             purpose_car  purpose_education  \\\n",
       "age                             0.083757           0.077986   \n",
       "job                             0.036762          -0.021672   \n",
       "duration                       -0.004534          -0.020323   \n",
       "risk                            0.022621           0.049085   \n",
       "sex_male                        0.047893          -0.052397   \n",
       "housing_own                    -0.099526          -0.075684   \n",
       "housing_rent                    0.014773          -0.006211   \n",
       "saving_accounts_moderate        0.029852          -0.015038   \n",
       "saving_accounts_quite rich     -0.028134          -0.012524   \n",
       "saving_accounts_rich            0.018052          -0.016518   \n",
       "checking_account_moderate      -0.046053           0.001235   \n",
       "checking_account_rich          -0.028134           0.004943   \n",
       "purpose_car                     1.000000          -0.178521   \n",
       "purpose_education              -0.178521           1.000000   \n",
       "purpose_furniture/equipment    -0.335163          -0.117714   \n",
       "purpose_others                 -0.156554          -0.054984   \n",
       "purpose_radio/TV               -0.444602          -0.156151   \n",
       "\n",
       "                             purpose_furniture/equipment  purpose_others  \\\n",
       "age                                            -0.100247        0.042951   \n",
       "job                                             0.013422       -0.026189   \n",
       "duration                                       -0.062304        0.020294   \n",
       "risk                                            0.020971        0.033334   \n",
       "sex_male                                       -0.100467        0.002684   \n",
       "housing_own                                    -0.040496        0.023237   \n",
       "housing_rent                                    0.105700       -0.052723   \n",
       "saving_accounts_moderate                       -0.082398        0.019819   \n",
       "saving_accounts_quite rich                      0.006382        0.002004   \n",
       "saving_accounts_rich                            0.028091       -0.004645   \n",
       "checking_account_moderate                      -0.056750        0.060564   \n",
       "checking_account_rich                          -0.004308       -0.037291   \n",
       "purpose_car                                    -0.335163       -0.156554   \n",
       "purpose_education                              -0.117714       -0.054984   \n",
       "purpose_furniture/equipment                     1.000000       -0.103229   \n",
       "purpose_others                                 -0.103229        1.000000   \n",
       "purpose_radio/TV                               -0.293164       -0.136936   \n",
       "\n",
       "                             purpose_radio/TV  \n",
       "age                                 -0.053197  \n",
       "job                                 -0.027683  \n",
       "duration                            -0.041106  \n",
       "risk                                -0.106922  \n",
       "sex_male                             0.008668  \n",
       "housing_own                          0.134705  \n",
       "housing_rent                        -0.070414  \n",
       "saving_accounts_moderate            -0.013482  \n",
       "saving_accounts_quite rich           0.049134  \n",
       "saving_accounts_rich                -0.046259  \n",
       "checking_account_moderate           -0.001607  \n",
       "checking_account_rich                0.058300  \n",
       "purpose_car                         -0.444602  \n",
       "purpose_education                   -0.156151  \n",
       "purpose_furniture/equipment         -0.293164  \n",
       "purpose_others                      -0.136936  \n",
       "purpose_radio/TV                     1.000000  "
      ]
     },
     "execution_count": 56,
     "metadata": {},
     "output_type": "execute_result"
    }
   ],
   "source": [
    "new_df.corr()"
   ]
  },
  {
   "cell_type": "code",
   "execution_count": 57,
   "id": "cdd371bd",
   "metadata": {},
   "outputs": [
    {
     "data": {
      "text/plain": [
       "risk                           1.000000\n",
       "duration                       0.214060\n",
       "checking_account_moderate      0.119581\n",
       "housing_rent                   0.092785\n",
       "purpose_education              0.049085\n",
       "purpose_others                 0.033334\n",
       "job                            0.032735\n",
       "purpose_car                    0.022621\n",
       "saving_accounts_moderate       0.022255\n",
       "purpose_furniture/equipment    0.020971\n",
       "checking_account_rich         -0.044009\n",
       "saving_accounts_quite rich    -0.070954\n",
       "sex_male                      -0.075493\n",
       "age                           -0.083026\n",
       "saving_accounts_rich          -0.085749\n",
       "purpose_radio/TV              -0.106922\n",
       "housing_own                   -0.134589\n",
       "Name: risk, dtype: float64"
      ]
     },
     "execution_count": 57,
     "metadata": {},
     "output_type": "execute_result"
    }
   ],
   "source": [
    "corr = new_df.corr()['risk'].sort_values(ascending=False)\n",
    "corr"
   ]
  },
  {
   "cell_type": "code",
   "execution_count": 58,
   "id": "bbe6c182",
   "metadata": {},
   "outputs": [
    {
     "data": {
      "image/png": "[encoded data removed]",
      "text/plain": [
       "<Figure size 1152x864 with 2 Axes>"
      ]
     },
     "metadata": {
      "needs_background": "light"
     },
     "output_type": "display_data"
    }
   ],
   "source": [
    "plt.figure(figsize=(16,12))\n",
    "corr = new_df.corr()\n",
    "mask = np.triu(np.ones_like(corr, dtype=bool))\n",
    "sns.heatmap(corr,cbar=True,annot=True,mask=mask,cmap='BuPu')\n",
    "plt.xticks(rotation=45)\n",
    "plt.show()"
   ]
  },
  {
   "cell_type": "markdown",
   "id": "df2e4601",
   "metadata": {},
   "source": [
    "## 6. Saving the Cleaned Data for EDA"
   ]
  },
  {
   "cell_type": "code",
   "execution_count": 59,
   "id": "e33d1f34",
   "metadata": {},
   "outputs": [],
   "source": [
    "new_df.to_csv('finalized_data.csv', index = False)"
   ]
  }
 ],
 "metadata": {
  "kernelspec": {
   "display_name": "Python 3 (ipykernel)",
   "language": "python",
   "name": "python3"
  },
  "language_info": {
   "codemirror_mode": {
    "name": "ipython",
    "version": 3
   },
   "file_extension": ".py",
   "mimetype": "text/x-python",
   "name": "python",
   "nbconvert_exporter": "python",
   "pygments_lexer": "ipython3",
   "version": "3.9.12"
  }
 },
 "nbformat": 4,
 "nbformat_minor": 5
}
